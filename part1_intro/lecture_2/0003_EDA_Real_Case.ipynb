{
  "nbformat": 4,
  "nbformat_minor": 0,
  "metadata": {
    "colab": {
      "provenance": []
    },
    "kernelspec": {
      "name": "python3",
      "display_name": "Python 3"
    },
    "language_info": {
      "name": "python"
    }
  },
  "cells": [
    {
      "cell_type": "code",
      "execution_count": null,
      "metadata": {
        "id": "lx3Gwp8yhn_S"
      },
      "outputs": [],
      "source": [
        "!git clone https://github.com/cesarlegendre/credit_scoring_7904_Q4_2024\n"
      ]
    },
    {
      "cell_type": "markdown",
      "source": [
        "# Predicting Customer Credit Card Default\n",
        "\n",
        "## Problem Description:\n",
        "The goal of this project is to predict whether a customer will default on their credit card payments in Taiwan. From a risk management perspective, accurately estimating the probability of default is more valuable than simply classifying clients as either credible or non-credible. This prediction can help financial institutions manage risk more effectively, preventing potential losses.\n",
        "\n",
        "# Data Description:\n",
        "This study uses a binary target variable, default payment (Yes = 1, No = 0), to determine if a customer will default. The dataset contains 23 explanatory variables, which include:\n",
        "\n",
        "* X1: Amount of given credit (NT dollar), covering both individual and family credit.\n",
        "* X2: Gender (1 = Male, 2 = Female).\n",
        "* X3: Education level (1 = Graduate school, 2 = University, 3 = High school, 4 = Others).\n",
        "* X4: Marital status (1 = Married, 2 = Single, 3 = Others).\n",
        "* X5: Age (in years).\n",
        "* X6 to X11: History of past payments, from April to September 2005. These variables track repayment status (Repayment status in Moth, Year (-1=pay duly, 1=payment delay for one month, 2=payment delay for two months, … 8=payment delay for eight months, 9=payment delay for nine months and above)).\n",
        "* X12 to X17: Bill amounts for the corresponding months (April to September 2005).\n",
        "* X18 to X23: Amounts of previous payments made in each respective month (April to September 2005).\n",
        "\n",
        "# Objective:\n",
        "\n",
        "The objective of this project is to develop a model that can predict which customers are at risk of defaulting in the coming months. Understanding credit card default is critical: when a customer defaults, it means they have become significantly delinquent in paying off their balance. Missing a few payments may not immediately count as a default, but failing to pay the minimum required amount for several consecutive months will result in a credit card default."
      ],
      "metadata": {
        "id": "Wv-NgSzNiyFB"
      }
    },
    {
      "cell_type": "code",
      "source": [
        "! ls -n credit_scoring_7904_Q4_2024/data_sets/credit_card/"
      ],
      "metadata": {
        "id": "o9vQISoLire6"
      },
      "execution_count": null,
      "outputs": []
    },
    {
      "cell_type": "markdown",
      "source": [
        "# Importing necessary libraries\n"
      ],
      "metadata": {
        "id": "uGhcKKjTjrQd"
      }
    },
    {
      "cell_type": "code",
      "source": [
        "import pandas as pd\n",
        "import numpy as np\n",
        "import matplotlib.pyplot as plt\n",
        "import seaborn as sns\n",
        "%matplotlib inline\n",
        "from sklearn.preprocessing import StandardScaler\n",
        "from sklearn.model_selection import train_test_split\n",
        "from sklearn.metrics import roc_auc_score, roc_curve, auc\n",
        "import warnings\n",
        "warnings.filterwarnings('ignore')\n",
        "\n",
        "# Load data\n",
        "path = 'credit_scoring_7904_Q4_2024/data_sets/credit_card/balance.csv'\n",
        "df_base = pd.read_csv(path)\n",
        "df_base"
      ],
      "metadata": {
        "id": "BrbCYZIUjaOq"
      },
      "execution_count": null,
      "outputs": []
    },
    {
      "cell_type": "markdown",
      "source": [
        "# General summaries\n",
        "\n",
        "* Displaying dataset info: Check basic dataset structure (30,000 rows, 24 columns) and data types, ensuring there are no missing values.\n",
        "* Checking for null values: Confirm there are no missing values in any columns.\n",
        "* Statistical summary: Provided a summary of key statistics for each column (mean, standard deviation, min/max values, etc.)."
      ],
      "metadata": {
        "id": "14nxKFx9jZkr"
      }
    },
    {
      "cell_type": "code",
      "source": [
        "# Drop ID column as it's irrelevant for prediction\n",
        "df = df_base.drop('ID', axis=1)\n",
        "\n",
        "# Basic dataset info\n",
        "#print(df.info())\n",
        "\n",
        "# Checking for null values\n",
        "print(df.isnull().sum())\n",
        "\n",
        "# Statistical Summary\n",
        "df.describe()\n"
      ],
      "metadata": {
        "id": "sxcwVDDIjYRS"
      },
      "execution_count": null,
      "outputs": []
    },
    {
      "cell_type": "markdown",
      "source": [
        "# Reordering and renaming columns\n",
        "\n",
        "For better manipulation, let's rename some of the columns to reflect the month of the transaction.\n"
      ],
      "metadata": {
        "id": "kHy-lI6Yetw_"
      }
    },
    {
      "cell_type": "code",
      "source": [
        "# Renaming columns related to repayment status (X6 - X11) for the months from April to September 2005\n",
        "df.rename(columns={\n",
        "    'PAY_0': 'PAY_SEP_2005',\n",
        "    'PAY_2': 'PAY_AUG_2005',\n",
        "    'PAY_3': 'PAY_JUL_2005',\n",
        "    'PAY_4': 'PAY_JUN_2005',\n",
        "    'PAY_5': 'PAY_MAY_2005',\n",
        "    'PAY_6': 'PAY_APR_2005'\n",
        "}, inplace=True)\n",
        "\n",
        "# Renaming columns related to bill amounts (X12 - X17) for the months from April to September 2005\n",
        "df.rename(columns={\n",
        "    'BILL_AMT1': 'BILL_AMT_SEP_2005',\n",
        "    'BILL_AMT2': 'BILL_AMT_AUG_2005',\n",
        "    'BILL_AMT3': 'BILL_AMT_JUL_2005',\n",
        "    'BILL_AMT4': 'BILL_AMT_JUN_2005',\n",
        "    'BILL_AMT5': 'BILL_AMT_MAY_2005',\n",
        "    'BILL_AMT6': 'BILL_AMT_APR_2005'\n",
        "}, inplace=True)\n",
        "\n",
        "# Renaming columns related to previous payments (X18 - X23) for the months from April to September 2005\n",
        "df.rename(columns={\n",
        "    'PAY_AMT1': 'PAY_AMT_SEP_2005',\n",
        "    'PAY_AMT2': 'PAY_AMT_AUG_2005',\n",
        "    'PAY_AMT3': 'PAY_AMT_JUL_2005',\n",
        "    'PAY_AMT4': 'PAY_AMT_JUN_2005',\n",
        "    'PAY_AMT5': 'PAY_AMT_MAY_2005',\n",
        "    'PAY_AMT6': 'PAY_AMT_APR_2005'\n",
        "}, inplace=True)\n",
        "\n",
        "# Checking the new column names\n",
        "print(df.columns)\n"
      ],
      "metadata": {
        "id": "5N_DRoaJnwtc"
      },
      "execution_count": null,
      "outputs": []
    },
    {
      "cell_type": "markdown",
      "source": [
        "# Checking the Distribution of Default Status\n",
        "\n",
        "To begin the analysis, it's important to examine the distribution of the target variable, which indicates whether clients are in default (1) or not (0). This step will provide an understanding of the balance between the two classes (default vs. non-default).\n",
        "\n",
        "A heavily imbalanced dataset could affect the performance of machine learning models, potentially biasing them toward the majority class. Understanding this distribution helps in deciding whether techniques such as oversampling, undersampling, or adjusting class weights will be necessary.\n",
        "\n"
      ],
      "metadata": {
        "id": "gujEVxAPes_n"
      }
    },
    {
      "cell_type": "code",
      "source": [
        "# Checking the distribution of the target variable\n",
        "plt.figure(figsize=(8,6))\n",
        "ax = sns.countplot(x='default.payment.next.month', data=df)\n",
        "plt.title('Default Payment Distribution')\n",
        "plt.xlabel('Defaulter Status (1: Yes, 0: No)')\n",
        "plt.ylabel('Number of Customers')\n",
        "\n",
        "# Add labels on each bar\n",
        "for p in ax.patches:\n",
        "    ax.annotate(f'{int(p.get_height())}',\n",
        "                (p.get_x() + p.get_width() / 2., p.get_height()),\n",
        "                ha='center', va='baseline', fontsize=11, color='black', xytext=(0, 5),\n",
        "                textcoords='offset points')\n",
        "\n",
        "plt.show()\n"
      ],
      "metadata": {
        "id": "U37sGwp_kEuU"
      },
      "execution_count": null,
      "outputs": []
    },
    {
      "cell_type": "markdown",
      "source": [
        "# Correlation Analysis\n",
        "\n",
        "A correlation heatmap helps visualize the relationships between features, allowing us to detect multicollinearity and identify key predictors. Features that are highly correlated with the target variable (default payment) are likely to be more predictive, while highly correlated features with each other may indicate redundancy. By extracting the features most correlated with the target, we can guide our feature selection process and enhance model performance."
      ],
      "metadata": {
        "id": "-2ZTc9qdfxgR"
      }
    },
    {
      "cell_type": "code",
      "source": [
        "# Correlation heatmap\n",
        "plt.figure(figsize=(12,8))\n",
        "corr_matrix = df.corr()\n",
        "sns.heatmap(corr_matrix, annot=False, cmap='viridis', linewidths=0.5)\n",
        "plt.title('Correlation Matrix of Features')\n",
        "plt.show()\n",
        "\n",
        "# Extracting highly correlated features\n",
        "corr_with_target = corr_matrix['default.payment.next.month'].sort_values(ascending=False)\n",
        "print(\"Correlations with Target Variable:\\n\", corr_with_target)"
      ],
      "metadata": {
        "id": "4fYfMXGbknCf"
      },
      "execution_count": null,
      "outputs": []
    },
    {
      "cell_type": "markdown",
      "source": [
        "# Mapping Categorical Variables for Better Readability\n",
        "\n",
        "**Purpose**: Mapping numerical categories (like SEX, EDUCATION, and MARRIAGE) to more meaningful and readable labels improves the interpretability of your data and makes visualizations and analysis more intuitive.\n",
        "\n",
        "**Why it's useful**:\n",
        "\n",
        "* Improved Readability: Rather than working with numeric codes, mapping to labels (e.g., 1 = Male, 2 = Female) makes the data easier to understand and interpret.\n",
        "* Easier Interpretation for Stakeholders: When presenting your analysis or results to non-technical stakeholders, categorical labels are more meaningful than numeric codes.\n",
        "* Prepares Data for Visualization: By converting numerical codes into readable labels, you can create more insightful and understandable visualizations."
      ],
      "metadata": {
        "id": "mujMazpGgQpX"
      }
    },
    {
      "cell_type": "code",
      "source": [
        "# Mapping categorical variables for better readability\n",
        "df['SEX'] = df['SEX'].map({1: 'Male', 2: 'Female'})\n",
        "df['EDUCATION'] = df['EDUCATION'].map({1: 'Graduate School', 2: 'University', 3: 'High School', 4: 'Others'})\n",
        "df['MARRIAGE'] = df['MARRIAGE'].map({1: 'Married', 2: 'Single', 3: 'Others'})\n",
        "\n",
        "# Visualize categorical variables against the target variable\n",
        "categorical_features = ['SEX', 'EDUCATION', 'MARRIAGE']\n",
        "\n",
        "for col in categorical_features:\n",
        "    plt.figure(figsize=(8,4))\n",
        "    sns.countplot(x=col, hue='default.payment.next.month', data=df)\n",
        "    plt.title(f'Default Payment vs {col}')\n",
        "    plt.show()\n"
      ],
      "metadata": {
        "id": "_y09vERHlD_t"
      },
      "execution_count": null,
      "outputs": []
    },
    {
      "cell_type": "code",
      "source": [],
      "metadata": {
        "id": "uZ9EBA_Vhw8U"
      },
      "execution_count": null,
      "outputs": []
    },
    {
      "cell_type": "markdown",
      "source": [
        "# Let's plot some distributions of defaulters vs. Non. defaulters\n",
        "\n",
        "## AGE\n"
      ],
      "metadata": {
        "id": "jf8IeKSyh07Q"
      }
    },
    {
      "cell_type": "code",
      "source": [
        "# Plot two histograms side by side (one for defaulters, one for non-defaulters)\n",
        "fig, axes = plt.subplots(1, 2, figsize=(12, 4))\n",
        "\n",
        "# Calculate common limits for both x (age) and y (frequency)\n",
        "max_age = df['AGE'].max()\n",
        "max_y_defaulters = df[df['default.payment.next.month'] == 1]['AGE'].value_counts().max()\n",
        "max_y_non_defaulters = df[df['default.payment.next.month'] == 0]['AGE'].value_counts().max()\n",
        "max_y = max(max_y_defaulters, max_y_non_defaulters)\n",
        "\n",
        "# Age distribution for defaulters\n",
        "sns.histplot(df[df['default.payment.next.month'] == 1]['AGE'], bins=40, kde=False, color='red', alpha=0.5, ax=axes[0])\n",
        "axes[0].set_title('Age Distribution of Defaulters')\n",
        "axes[0].set_xlabel('Age')\n",
        "axes[0].set_ylabel('Frequency')\n",
        "axes[0].set_xlim(20, max_age)\n",
        "#axes[0].set_ylim(0, max_y*2.0)\n",
        "\n",
        "# Age distribution for non-defaulters\n",
        "sns.histplot(df[df['default.payment.next.month'] == 0]['AGE'], bins=40, kde=False, color='blue', alpha=0.5, ax=axes[1])\n",
        "axes[1].set_title('Age Distribution of Non-Defaulters')\n",
        "axes[1].set_xlabel('Age')\n",
        "axes[1].set_ylabel('Frequency')\n",
        "axes[1].set_xlim(20, max_age)\n",
        "#axes[1].set_ylim(0, max_y*2.0)\n",
        "\n",
        "# Display the plots\n",
        "plt.tight_layout()\n",
        "plt.show()\n"
      ],
      "metadata": {
        "id": "3mbpqZDWiA6B"
      },
      "execution_count": null,
      "outputs": []
    },
    {
      "cell_type": "markdown",
      "source": [
        "# LIMIT_BAL: Credit ammount"
      ],
      "metadata": {
        "id": "35KNZ7mziDoE"
      }
    },
    {
      "cell_type": "code",
      "source": [
        "fig, axes = plt.subplots(1, 2, figsize=(12, 4))\n",
        "max_limit = max(df['LIMIT_BAL'])\n",
        "\n",
        "# Credit Amount distribution for defaulters\n",
        "sns.histplot(df[df['default.payment.next.month'] == 1]['LIMIT_BAL'], bins=40, kde=False, color='red', alpha=0.5, ax=axes[0])\n",
        "axes[0].set_title('Credit Amount Distribution of Defaulters')\n",
        "axes[0].set_xlabel('Credit Amount')\n",
        "axes[0].set_ylabel('Frequency')\n",
        "axes[0].set_xlim(0, max_limit)\n",
        "\n",
        "# Credit Amount distribution for non-defaulters\n",
        "sns.histplot(df[df['default.payment.next.month'] == 0]['LIMIT_BAL'], bins=40, kde=False, color='blue', alpha=0.5, ax=axes[1])\n",
        "axes[1].set_title('Credit Amount of Non-Defaulters')\n",
        "axes[1].set_xlabel('Credit Amount')\n",
        "axes[1].set_ylabel('Frequency')\n",
        "axes[1].set_xlim(0, max_limit)\n",
        "\n",
        "# Display the plots\n",
        "plt.tight_layout()\n",
        "plt.show()"
      ],
      "metadata": {
        "id": "yt6dFyCviC9A"
      },
      "execution_count": null,
      "outputs": []
    },
    {
      "cell_type": "markdown",
      "source": [
        "# Payment History vs. Default Status\n",
        "\n",
        "Visualizing the payment history across multiple months helps identify patterns between repayment behavior and default risk. By comparing the distribution of defaulters and non-defaulters for different payment statuses (e.g., on-time, delayed), we can assess which past behaviors are strong indicators of default. This insight can guide feature selection and engineering for the predictive model.\n",
        "\n",
        "Explanation from data:\n",
        "\n",
        "PAY_0: Repayment status in September, 2005 (-1=pay duly, 1=payment delay for one month, 2=payment delay for two months, … 8=payment delay for eight months, 9=payment delay for nine months and above)\n",
        "\n",
        "\n",
        "We observe undocumented values for repayment status variables: -2 and 0. Moreover, fraction of it is 86.5%. Strictly speaking, it is “NAs”."
      ],
      "metadata": {
        "id": "uTkZJXGNk_0x"
      }
    },
    {
      "cell_type": "code",
      "source": [],
      "metadata": {
        "id": "-pnaIkzOrRAB"
      },
      "execution_count": null,
      "outputs": []
    },
    {
      "cell_type": "code",
      "source": [
        "import matplotlib.pyplot as plt\n",
        "import seaborn as sns\n",
        "\n",
        "# List of payment columns to plot\n",
        "pay_cols_names = ['PAY_SEP_2005', 'PAY_AUG_2005', 'PAY_JUL_2005', 'PAY_JUN_2005', 'PAY_MAY_2005', 'PAY_APR_2005']\n",
        "\n",
        "# Create a figure with a grid of subplots (2 rows, 3 columns for 6 plots)\n",
        "fig, axes = plt.subplots(2, 3, figsize=(15, 8))  # Adjust the size as needed\n",
        "axes = axes.flatten()  # Flatten to make iterating easier\n",
        "\n",
        "# Loop over each payment column and corresponding axis\n",
        "for i, col in enumerate(pay_cols_names):\n",
        "    sns.countplot(x=col, data=df, ax=axes[i])\n",
        "    axes[i].set_title(f'Repayment Status {col}')\n",
        "    axes[i].set_xlabel('Repayment Status')\n",
        "    axes[i].set_ylabel('Observations Count')\n",
        "\n",
        "# Adjust layout\n",
        "plt.tight_layout()\n",
        "plt.show()\n"
      ],
      "metadata": {
        "id": "fC2cMZqznkoQ"
      },
      "execution_count": null,
      "outputs": []
    },
    {
      "cell_type": "code",
      "source": [
        "import matplotlib.pyplot as plt\n",
        "import seaborn as sns\n",
        "\n",
        "# List of payment columns to plot\n",
        "pay_cols_names = ['PAY_SEP_2005', 'PAY_AUG_2005', 'PAY_JUL_2005', 'PAY_JUN_2005', 'PAY_MAY_2005', 'PAY_APR_2005']\n",
        "\n",
        "# Define a mapping for the payment status labels, excluding -2 and 0\n",
        "payment_status_labels = {\n",
        "    -1: 'Paid on Time',\n",
        "    1: '1 month delay',\n",
        "    2: '2 months delay',\n",
        "    3: '3 months delay',\n",
        "    4: '4 months delay',\n",
        "    5: '5 months delay',\n",
        "    6: '6 months delay',\n",
        "    7: '7 months delay',\n",
        "    8: '8+ months delay'\n",
        "}\n",
        "\n",
        "dff = df[df['default.payment.next.month']==0] # Play with this\n",
        "\n",
        "\n",
        "# Create a figure with a grid of subplots (2 rows, 3 columns for 6 plots)\n",
        "fig, axes = plt.subplots(2, 3, figsize=(15, 8))  # Adjust the size as needed\n",
        "axes = axes.flatten()  # Flatten to make iterating easier\n",
        "\n",
        "# Loop over each payment column and corresponding axis\n",
        "for i, col in enumerate(pay_cols_names):\n",
        "    # Filter out -2 (Paid on time) and 0 (No consumption)\n",
        "    filtered_df = dff[dff[col].isin(payment_status_labels.keys())]\n",
        "\n",
        "    # Plot the filtered data\n",
        "    sns.countplot(x=col, data=filtered_df, ax=axes[i])\n",
        "\n",
        "    # Set title and labels\n",
        "    axes[i].set_title(f'Repayment Status {col}')\n",
        "    axes[i].set_xlabel('Repayment Status')\n",
        "    axes[i].set_ylabel('Observations Count')\n",
        "\n",
        "    # Update the x-tick labels with the payment status descriptions\n",
        "    axes[i].set_xticks([-1,1,2,3,4,5,6,7,8])  # Set ticks excluding -2 and 0\n",
        "    axes[i].set_xticklabels([payment_status_labels.get(x, '') for x in [-1,1,2,3,4,5,6,7,8]], rotation=90)\n",
        "\n",
        "# Adjust layout to prevent overlap\n",
        "plt.tight_layout()\n",
        "plt.show()\n"
      ],
      "metadata": {
        "id": "KwywARu1pGZj"
      },
      "execution_count": null,
      "outputs": []
    }
  ]
}