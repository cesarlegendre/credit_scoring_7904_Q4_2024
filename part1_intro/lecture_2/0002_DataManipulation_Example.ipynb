{
  "nbformat": 4,
  "nbformat_minor": 0,
  "metadata": {
    "colab": {
      "provenance": []
    },
    "kernelspec": {
      "name": "python3",
      "display_name": "Python 3"
    },
    "language_info": {
      "name": "python"
    }
  },
  "cells": [
    {
      "cell_type": "markdown",
      "source": [
        "# Data manipulation\n",
        "\n",
        "The **California Housing dataset** is a popular dataset used for regression tasks, particularly in predicting housing prices based on various features. It was originally extracted from the 1990 U.S. Census and was compiled for the purpose of predicting median house values in California's various districts. This dataset is available through `scikit-learn` and contains information on several key factors that can influence housing prices.\n",
        "\n",
        "### Key Features of the Dataset:\n",
        "- **MedInc**: Median income in the district (in tens of thousands of dollars).\n",
        "- **HouseAge**: Median age of houses in the district (in years).\n",
        "- **AveRooms**: Average number of rooms per household.\n",
        "- **AveBedrms**: Average number of bedrooms per household.\n",
        "- **Population**: Total population of the district.\n",
        "- **AveOccup**: Average number of occupants per household.\n",
        "- **Latitude**: Geographical latitude of the district.\n",
        "- **Longitude**: Geographical longitude of the district.\n",
        "\n",
        "### Target Variable:\n",
        "- **MedHouseVal**: Median house value for households in the district (in hundreds of thousands of dollars).\n",
        "\n",
        "### Use Cases:\n",
        "The dataset is primarily used for:\n",
        "1. **Regression analysis**: Predicting median house prices based on features like income, house age, and population density.\n",
        "2. **Data exploration and visualization**: Understanding relationships between housing characteristics and geographical regions.\n",
        "3. **Machine learning models**: Developing models to predict house prices, such as linear regression, decision trees, or neural networks.\n",
        "\n",
        "The dataset contains 20,640 instances, making it a moderately sized dataset suitable for various data science projects.\n",
        "\n",
        "It is widely used for teaching purposes in courses and tutorials on data analysis, data visualization, and machine learning. The dataset provides rich opportunities for data exploration, feature engineering, and predictive modeling."
      ],
      "metadata": {
        "id": "ok9pNQZfRnJm"
      }
    },
    {
      "cell_type": "code",
      "source": [
        "# Importing necessary libraries\n",
        "import pandas as pd\n",
        "import numpy as np\n",
        "from sklearn.datasets import fetch_california_housing\n",
        "\n",
        "# Loading the dataset\n",
        "california_housing = fetch_california_housing(as_frame=True)\n",
        "df = california_housing.frame\n",
        "\n",
        "# Viewing the first few rows of the dataset\n",
        "# df.head() # UNCOMMENT"
      ],
      "metadata": {
        "id": "2WipVALdRj5Y"
      },
      "execution_count": 1,
      "outputs": []
    },
    {
      "cell_type": "markdown",
      "source": [
        "## 1. Querying the dataset: selecting rows where 'MedInc' (Median Income) is greater than 5"
      ],
      "metadata": {
        "id": "-t7V4HUlSCQX"
      }
    },
    {
      "cell_type": "code",
      "source": [
        "df_query = df.query('MedInc > 5')\n",
        "#print(\"Query Example: \\n\", ); df_query.head(10)  # UNCOMMENT"
      ],
      "metadata": {
        "id": "9hu3ZZ67R4jc"
      },
      "execution_count": 2,
      "outputs": []
    },
    {
      "cell_type": "markdown",
      "source": [
        "## 2. Using loc: selecting rows where the index is between 0 and 10 and specific columns\n"
      ],
      "metadata": {
        "id": "tPibYtDQSfex"
      }
    },
    {
      "cell_type": "code",
      "source": [
        "df_loc = df.loc[0:10, ['MedInc', 'HouseAge', 'AveRooms']]\n",
        "#print(\"loc Example: \\n\"); df_loc # UNCOMMENT"
      ],
      "metadata": {
        "id": "FEJXhJu7TKYh"
      },
      "execution_count": 3,
      "outputs": []
    },
    {
      "cell_type": "markdown",
      "source": [
        "## 3. Using iloc: selecting rows and columns by index position\n"
      ],
      "metadata": {
        "id": "DKc_YUosSfpB"
      }
    },
    {
      "cell_type": "code",
      "source": [
        "df_iloc = df.iloc[0:10, [0, 1, 2]]\n",
        "#print(\"loc Example: \\n\"); df_iloc # UNCOMMENT"
      ],
      "metadata": {
        "id": "h6sBvcjaTXY1"
      },
      "execution_count": 4,
      "outputs": []
    },
    {
      "cell_type": "markdown",
      "source": [
        "## 4. Sorting the dataframe by 'MedInc' (Median Income)\n"
      ],
      "metadata": {
        "id": "_TIlxZR1Sfvd"
      }
    },
    {
      "cell_type": "code",
      "source": [
        "df_sorted = df.sort_values(by='MedInc', ascending=False)\n",
        "# print(\"Sorted Data Example: \\n\"); df_sorted.head() # UNCOMMENT"
      ],
      "metadata": {
        "id": "JaXfqYFvTjt8"
      },
      "execution_count": 5,
      "outputs": []
    },
    {
      "cell_type": "markdown",
      "source": [
        "## 5. Renaming columns: renaming 'MedInc' to 'MedianIncome'\n"
      ],
      "metadata": {
        "id": "1z3iUNCqSf3M"
      }
    },
    {
      "cell_type": "code",
      "source": [
        "df_renamed = df.rename(columns={'MedInc': 'MedianIncome'})\n",
        "#print(\"Renamed Columns Example: \\n\"); df_renamed.head() # UNCOMMENT"
      ],
      "metadata": {
        "id": "dG2QYiBrTrj4"
      },
      "execution_count": 6,
      "outputs": []
    },
    {
      "cell_type": "markdown",
      "source": [
        "## 6. Finding unique values in a column ('HouseAge')\n"
      ],
      "metadata": {
        "id": "wHfcCAPiSf9B"
      }
    },
    {
      "cell_type": "code",
      "source": [
        "unique_ages = df['HouseAge'].unique()\n",
        "#print(\"Unique HouseAge Values: \\n\"); unique_ages # UNCOMMENT"
      ],
      "metadata": {
        "id": "3jBY-7N4T0DP"
      },
      "execution_count": 7,
      "outputs": []
    },
    {
      "cell_type": "markdown",
      "source": [
        "## 7. Dropping duplicate rows (if any)\n"
      ],
      "metadata": {
        "id": "ZSNHcXyKSvHK"
      }
    },
    {
      "cell_type": "code",
      "source": [
        "df_deduplicated = df.drop_duplicates()\n",
        "#print(\"Duplicates Dropped: \\n\"); df_deduplicated # UNCOMMENT"
      ],
      "metadata": {
        "id": "H30XJiGzT_Ya"
      },
      "execution_count": 8,
      "outputs": []
    },
    {
      "cell_type": "markdown",
      "source": [
        "## 8. Assigning a new column: creating a new column 'PricePerRoom' by dividing 'MedHouseVal' by 'AveRooms'"
      ],
      "metadata": {
        "id": "QDG8i30jSvwE"
      }
    },
    {
      "cell_type": "code",
      "source": [
        "df_assigned = df.assign(PricePerRoom=df['MedHouseVal'] / df['AveRooms'])\n",
        "#print(\"Assigned New Column Example: \\n\");  df_assigned.head() # UNCOMMENT"
      ],
      "metadata": {
        "id": "JvC7KJxoUVTp"
      },
      "execution_count": 9,
      "outputs": []
    },
    {
      "cell_type": "markdown",
      "source": [
        "## 9. Describing the dataset: summary statistics of numerical columns"
      ],
      "metadata": {
        "id": "THis7kSSSv2J"
      }
    },
    {
      "cell_type": "code",
      "source": [
        "df_description = df.describe()\n",
        "#print(\"Description Example: \\n\"); df_description # UNCOMMENT"
      ],
      "metadata": {
        "id": "RDoy9EiMUhBY"
      },
      "execution_count": 10,
      "outputs": []
    },
    {
      "cell_type": "markdown",
      "source": [
        "## 10. Calculating the mean of the 'MedHouseVal' column"
      ],
      "metadata": {
        "id": "BNt2YVWzSv_J"
      }
    },
    {
      "cell_type": "code",
      "source": [
        "mean_house_value = df['MedHouseVal'].mean()\n",
        "#print(\"Mean House Value: \\n\");  mean_house_value # UNCOMMENT"
      ],
      "metadata": {
        "id": "gGB0_EdSUpy5"
      },
      "execution_count": 11,
      "outputs": []
    },
    {
      "cell_type": "markdown",
      "source": [
        "## 11. Finding the maximum value in the 'AveOccup' column"
      ],
      "metadata": {
        "id": "99SvIT6KS8jx"
      }
    },
    {
      "cell_type": "code",
      "source": [
        "\n",
        "max_occupants = df['AveOccup'].max()\n",
        "# print(\"Max Occupants: \\n\") ; max_occupants # UNCOMMENT"
      ],
      "metadata": {
        "id": "jmQG2NSDUxv5"
      },
      "execution_count": 12,
      "outputs": []
    },
    {
      "cell_type": "code",
      "source": [],
      "metadata": {
        "id": "H9ZH1K_qU473"
      },
      "execution_count": 12,
      "outputs": []
    },
    {
      "cell_type": "markdown",
      "source": [
        "## 12. Sampling 5 random rows from the dataset"
      ],
      "metadata": {
        "id": "cQXzkuAQS-in"
      }
    },
    {
      "cell_type": "code",
      "source": [
        "df_sample = df.sample(5)\n",
        "#print(\"Sample Example: \\n\");  df_sample # UNCOMMENT"
      ],
      "metadata": {
        "id": "yNM01lnVSuE7"
      },
      "execution_count": 13,
      "outputs": []
    },
    {
      "cell_type": "markdown",
      "source": [
        "## 13. Group by 'HouseAge' and counting the occurrences\n"
      ],
      "metadata": {
        "id": "FrBdzJ-cVM_8"
      }
    },
    {
      "cell_type": "code",
      "source": [
        "df_grouped_count = df.groupby('HouseAge').count()\n",
        "#print(\"Group by Count Example: \\n\"); df_grouped_count[['MedInc']].head() # UNCOMMENT"
      ],
      "metadata": {
        "id": "QPdaMu--VPC9"
      },
      "execution_count": 14,
      "outputs": []
    },
    {
      "cell_type": "markdown",
      "source": [
        "## 14. Group by 'HouseAge' and summing the 'MedHouseVal'\n",
        "\n"
      ],
      "metadata": {
        "id": "IfQXpriOVaPp"
      }
    },
    {
      "cell_type": "code",
      "source": [
        "df_grouped_sum = df.groupby('HouseAge')['MedHouseVal'].sum()\n",
        "#print(\"Group by Sum Example: \\n\"); df_grouped_sum.head() #UNCOMMENT"
      ],
      "metadata": {
        "id": "JKzJbidYVo2k"
      },
      "execution_count": 15,
      "outputs": []
    },
    {
      "cell_type": "markdown",
      "source": [
        "## 15. Dropping a column: removing 'AveRooms' column\n",
        "\n",
        "\n"
      ],
      "metadata": {
        "id": "peHAKx1xVabP"
      }
    },
    {
      "cell_type": "code",
      "source": [
        "df_dropped = df.drop(columns=['AveRooms'])\n",
        "#print(\"Dropped Column Example: \\n\"); df_dropped.head() #UNCOMMENT"
      ],
      "metadata": {
        "id": "83ycXUANVuUT"
      },
      "execution_count": 16,
      "outputs": []
    },
    {
      "cell_type": "markdown",
      "source": [
        "## 16. Masking: replace values where 'MedInc' is less than 2 with NaN"
      ],
      "metadata": {
        "id": "yNNCig5uVa2R"
      }
    },
    {
      "cell_type": "code",
      "source": [
        "df_masked = df.mask(df['MedInc'] < 2)\n",
        "#print(\"Masked Data Example: \\n\"); df_masked.head() # UNCOMMENT\n"
      ],
      "metadata": {
        "id": "58Z7xwZMSHgH"
      },
      "execution_count": 17,
      "outputs": []
    }
  ]
}