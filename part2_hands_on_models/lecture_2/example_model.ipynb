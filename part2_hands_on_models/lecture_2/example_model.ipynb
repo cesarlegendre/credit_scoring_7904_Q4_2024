{
  "nbformat": 4,
  "nbformat_minor": 0,
  "metadata": {
    "colab": {
      "provenance": []
    },
    "kernelspec": {
      "name": "python3",
      "display_name": "Python 3"
    },
    "language_info": {
      "name": "python"
    }
  },
  "cells": [
    {
      "cell_type": "code",
      "execution_count": null,
      "metadata": {
        "id": "F_kSNxWcEzNf"
      },
      "outputs": [],
      "source": [
        "!git clone https://github.com/cesarlegendre/credit_scoring_7904_Q4_2024\n"
      ]
    },
    {
      "cell_type": "code",
      "source": [],
      "metadata": {
        "id": "n2eQcJZyFKpO"
      },
      "execution_count": null,
      "outputs": []
    },
    {
      "cell_type": "code",
      "source": [
        "import pandas as pd\n",
        "import numpy as np\n",
        "import matplotlib.pyplot as plt\n",
        "import seaborn as sns\n",
        "%matplotlib inline\n",
        "from sklearn.preprocessing import StandardScaler\n",
        "from sklearn.model_selection import train_test_split\n",
        "from sklearn.metrics import roc_auc_score, roc_curve, auc\n",
        "import warnings\n",
        "warnings.filterwarnings('ignore')\n",
        "\n",
        "# Load data\n",
        "path = 'credit_scoring_7904_Q4_2024/data_sets/advertising/data.csv'\n",
        "df_base = pd.read_csv(path)\n",
        "df_base"
      ],
      "metadata": {
        "id": "W655OViXFNo6"
      },
      "execution_count": null,
      "outputs": []
    },
    {
      "cell_type": "code",
      "source": [
        "# prompt: plot TV vs Sales please, make the markets as X simpbol and bigger\n",
        "\n",
        "plt.figure(figsize=(10, 6))\n",
        "df_sample = df_base.sample(10)\n",
        "plt.scatter(df_sample['TV'], df_sample['Sales'], marker='X', s=50)  # s controls the size of the markers\n",
        "plt.xlabel('TV Advertising Spend')\n",
        "plt.ylabel('Sales in 1000 $')\n",
        "plt.title('TV Advertising Spend vs. Sales in 1000$')\n",
        "plt.show()\n"
      ],
      "metadata": {
        "id": "afYrF6s2FSa7"
      },
      "execution_count": null,
      "outputs": []
    },
    {
      "cell_type": "code",
      "source": [
        "# prompt: plot TV vs Sales please, make the markets as X simpbol and bigger using a sample of 10 and plot a vertical line in x=124\n",
        "\n",
        "plt.figure(figsize=(10, 6))\n",
        "df_sample = df_base.sample(10)\n",
        "plt.scatter(df_sample['TV'], df_sample['Sales'], marker='X', s=100)  # s controls the size of the markers\n",
        "plt.xlabel('TV Advertising Spend')\n",
        "plt.ylabel('Sales in 1000')\n",
        "plt.title('TV Advertising Spend vs. Sales')\n",
        "plt.axvline(x=175, color='red', linestyle='--')\n",
        "plt.show()\n"
      ],
      "metadata": {
        "id": "URX14MQAF75e"
      },
      "execution_count": null,
      "outputs": []
    },
    {
      "cell_type": "code",
      "source": [
        "\n",
        "plt.figure(figsize=(10, 6))\n",
        "df_sample = df_base.sample(10)\n",
        "plt.scatter(df_sample['TV'], df_sample['Sales'], marker='X', s=100)  # s controls the size of the markers\n",
        "plt.xlabel('TV Advertising Spend')\n",
        "plt.ylabel('Sales in 1000')\n",
        "plt.title('TV Advertising Spend vs. Sales')\n",
        "plt.axvline(x=115, color='red', linestyle='--')\n",
        "plt.show()\n"
      ],
      "metadata": {
        "id": "9dpntGuyGPwZ"
      },
      "execution_count": null,
      "outputs": []
    },
    {
      "cell_type": "code",
      "source": [
        "# prompt: # prompt: plot TV vs Sales please, make the markets as X simpbol and bigger using a sample of 10 and plot a hoizontal line with the average in sales\n",
        "\n",
        "plt.figure(figsize=(10, 6))\n",
        "df_sample = df_base.sample(10)\n",
        "plt.scatter(df_sample['TV'], df_sample['Sales'], marker='X', s=100)  # s controls the size of the markers\n",
        "plt.xlabel('TV Advertising Spend')\n",
        "plt.ylabel('Sales in 1000')\n",
        "plt.title('TV Advertising Spend vs. Sales')\n",
        "average_sales = df_sample['Sales'].mean()\n",
        "plt.axhline(y=average_sales, color='red', linestyle='--', label=f'Average Sales: {average_sales:.2f}')\n",
        "plt.legend()\n",
        "plt.show()\n"
      ],
      "metadata": {
        "id": "GnuY77RSGXI8"
      },
      "execution_count": null,
      "outputs": []
    },
    {
      "cell_type": "code",
      "source": [],
      "metadata": {
        "id": "9kctQ8Y3HBQa"
      },
      "execution_count": null,
      "outputs": []
    },
    {
      "cell_type": "code",
      "source": [
        "# prompt: now, plot a knn predictor for the sample data base (at 10) with the real values and the predicted values. The real values in scatter plot and the predictive value as line\n",
        "\n",
        "from sklearn.neighbors import KNeighborsRegressor\n",
        "\n",
        "# Sample data\n",
        "df_sample = df_base.sample(10)\n",
        "X = df_sample[['TV']]\n",
        "y = df_sample['Sales']\n",
        "\n",
        "# Create and train the KNN model\n",
        "knn = KNeighborsRegressor(n_neighbors=1)\n",
        "knn.fit(X, y)\n",
        "\n",
        "# Generate predictions\n",
        "X_pred = np.linspace(X['TV'].min(), X['TV'].max(), 50).reshape(-1, 1)\n",
        "y_pred = knn.predict(X_pred)\n",
        "\n",
        "\n",
        "# Plot the results\n",
        "plt.figure(figsize=(10, 6))\n",
        "plt.scatter(X, y, label='Real Values', marker='X',  s=100)\n",
        "plt.plot(X_pred, y_pred, label='Predicted Values', color='red')\n",
        "plt.xlabel('TV Advertising Spend')\n",
        "plt.ylabel('Sales in 1000')\n",
        "plt.title('KNN Regression for Sales Prediction')\n",
        "plt.legend()\n",
        "plt.show()\n"
      ],
      "metadata": {
        "id": "8IeoCPUHGpO9"
      },
      "execution_count": null,
      "outputs": []
    },
    {
      "cell_type": "code",
      "source": [
        "\n",
        "from sklearn.neighbors import KNeighborsRegressor\n",
        "\n",
        "# Sample data\n",
        "df_sample = df_base\n",
        "X = df_sample[['TV']]\n",
        "y = df_sample['Sales']\n",
        "\n",
        "# Create and train the KNN model\n",
        "knn = KNeighborsRegressor(n_neighbors=4)\n",
        "knn.fit(X, y)\n",
        "\n",
        "# Generate predictions\n",
        "X_pred = np.linspace(X['TV'].min(), X['TV'].max(), 50).reshape(-1, 1)\n",
        "y_pred = knn.predict(X_pred)\n",
        "\n",
        "\n",
        "# Plot the results\n",
        "plt.figure(figsize=(10, 6))\n",
        "plt.scatter(X, y, label='Real Values', marker='X',  s=100)\n",
        "plt.plot(X_pred, y_pred, label='Predicted Values', color='red')\n",
        "plt.xlabel('TV Advertising Spend')\n",
        "plt.ylabel('Sales in 1000')\n",
        "plt.title('KNN Regression for Sales Prediction')\n",
        "plt.legend()\n",
        "plt.show()"
      ],
      "metadata": {
        "id": "CJEul8uCHmLJ"
      },
      "execution_count": null,
      "outputs": []
    },
    {
      "cell_type": "code",
      "source": [
        "# prompt: calculate the error MSE of predicted values vs real values\n",
        "\n",
        "from sklearn.metrics import mean_squared_error\n",
        "\n",
        "# Calculate MSE\n",
        "\n",
        "mse = mean_squared_error(y, knn.predict(X))\n",
        "print(f\"Mean Squared Error (MSE): {mse}\")\n"
      ],
      "metadata": {
        "id": "rK7TSQDgHyTM"
      },
      "execution_count": null,
      "outputs": []
    },
    {
      "cell_type": "code",
      "source": [
        "from sklearn.linear_model import LinearRegression\n",
        "import numpy as np\n",
        "import matplotlib.pyplot as plt\n",
        "\n",
        "# Sample data\n",
        "df_sample = df_base.sample(10)\n",
        "X = df_sample[['TV']]\n",
        "y = df_sample['Sales']\n",
        "\n",
        "# Create and train the Linear Regression model\n",
        "linear_reg = LinearRegression()\n",
        "linear_reg.fit(X, y)\n",
        "\n",
        "# Generate predictions\n",
        "X_pred = np.linspace(X['TV'].min(), X['TV'].max(), 50).reshape(-1, 1)\n",
        "y_pred = linear_reg.predict(X_pred)\n",
        "\n",
        "# Plot the results\n",
        "plt.figure(figsize=(10, 6))\n",
        "plt.scatter(X, y, label='Real Values', marker='X', s=100)\n",
        "plt.plot(X_pred, y_pred, label='Predicted Values', color='red')\n",
        "plt.xlabel('TV Advertising Spend')\n",
        "plt.ylabel('Sales in 1000')\n",
        "plt.title('Linear Regression for Sales Prediction')\n",
        "plt.legend()\n",
        "plt.show()\n"
      ],
      "metadata": {
        "id": "d1m_oX-iKoMZ"
      },
      "execution_count": null,
      "outputs": []
    },
    {
      "cell_type": "code",
      "source": [],
      "metadata": {
        "id": "VFYcEKCEKZI9"
      },
      "execution_count": null,
      "outputs": []
    },
    {
      "cell_type": "code",
      "source": [
        "from sklearn.linear_model import LinearRegression\n",
        "import numpy as np\n",
        "import matplotlib.pyplot as plt\n",
        "\n",
        "# Sample data\n",
        "df_sample = df_base\n",
        "X = df_sample[['TV']]\n",
        "y = df_sample['Sales']\n",
        "\n",
        "# Create and train the Linear Regression model\n",
        "linear_reg = LinearRegression()\n",
        "linear_reg.fit(X, y)\n",
        "\n",
        "# Generate predictions\n",
        "X_pred = np.linspace(X['TV'].min(), X['TV'].max(), 50).reshape(-1, 1)\n",
        "y_pred = linear_reg.predict(X_pred)\n",
        "\n",
        "# Plot the results\n",
        "plt.figure(figsize=(10, 6))\n",
        "plt.scatter(X, y, label='Real Values', marker='X', s=100)\n",
        "plt.plot(X_pred, y_pred, label='Predicted Values', color='red')\n",
        "plt.xlabel('TV Advertising Spend')\n",
        "plt.ylabel('Sales in 1000')\n",
        "plt.title('Linear Regression for Sales Prediction')\n",
        "plt.legend()\n",
        "plt.show()\n"
      ],
      "metadata": {
        "id": "6Iq0FeOZK3S-"
      },
      "execution_count": null,
      "outputs": []
    },
    {
      "cell_type": "code",
      "source": [],
      "metadata": {
        "id": "LGTeXgzEKRpt"
      },
      "execution_count": null,
      "outputs": []
    }
  ]
}
