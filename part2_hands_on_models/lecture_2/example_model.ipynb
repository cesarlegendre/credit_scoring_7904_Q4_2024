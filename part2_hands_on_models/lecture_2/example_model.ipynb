{
  "nbformat": 4,
  "nbformat_minor": 0,
  "metadata": {
    "colab": {
      "provenance": []
    },
    "kernelspec": {
      "name": "python3",
      "display_name": "Python 3"
    },
    "language_info": {
      "name": "python"
    }
  },
  "cells": [
    {
      "cell_type": "code",
      "source": [],
      "metadata": {
        "id": "sj9SbN11WbCm"
      },
      "execution_count": null,
      "outputs": []
    },
    {
      "cell_type": "markdown",
      "source": [
        "# Comparing KNN and Linear Regression Models on Advertising Data\n",
        "\n",
        "\n",
        "In this notebook, we will explore and compare two regression models—K-Nearest Neighbors (KNN) and Linear Regression—to predict sales based on TV advertising spend. We'll visualize the data, fit both models, and evaluate their performance.\n",
        "\n",
        "\n",
        "## 1. Cloning the Repository and Loading Data\n",
        "\n",
        "First, we need to clone the repository that contains the dataset we'll be using."
      ],
      "metadata": {
        "id": "UaOiDhbOWblD"
      }
    },
    {
      "cell_type": "code",
      "execution_count": null,
      "metadata": {
        "id": "F_kSNxWcEzNf"
      },
      "outputs": [],
      "source": [
        "!git clone https://github.com/cesarlegendre/credit_scoring_7904_Q4_2024\n"
      ]
    },
    {
      "cell_type": "markdown",
      "source": [
        "\n",
        "## 2. Importing Necessary Libraries\n",
        "\n",
        "\n",
        "We start by importing all the necessary libraries for data manipulation, visualization, and modeling.\n",
        "\n",
        "\n"
      ],
      "metadata": {
        "id": "RmjFxaFLUn-3"
      }
    },
    {
      "cell_type": "code",
      "source": [
        "import pandas as pd\n",
        "import numpy as np\n",
        "import matplotlib.pyplot as plt\n",
        "import seaborn as sns\n",
        "%matplotlib inline\n",
        "from sklearn.preprocessing import StandardScaler\n",
        "from sklearn.model_selection import train_test_split\n",
        "from sklearn.metrics import roc_auc_score, roc_curve, auc\n",
        "import warnings\n",
        "warnings.filterwarnings('ignore')\n",
        "\n",
        "# Load data\n",
        "path = 'credit_scoring_7904_Q4_2024/data_sets/advertising/data.csv'\n",
        "df_base = pd.read_csv(path)\n",
        "df_base"
      ],
      "metadata": {
        "id": "W655OViXFNo6"
      },
      "execution_count": null,
      "outputs": []
    },
    {
      "cell_type": "markdown",
      "source": [
        "## 2. Data Exploration and Visualization\n",
        "Plotting TV Advertising Spend vs. Sales\n",
        "We want to visualize the relationship between TV advertising spend and sales. We'll take a random sample of 10 data points for clarity."
      ],
      "metadata": {
        "id": "5nHztBbsWvzP"
      }
    },
    {
      "cell_type": "code",
      "source": [
        "\n",
        "plt.figure(figsize=(10, 6))\n",
        "df_sample = df_base.sample(10)\n",
        "plt.scatter(df_sample['TV'], df_sample['Sales'], marker='X', s=50)  # s controls the size of the markers\n",
        "plt.xlabel('TV Advertising Spend')\n",
        "plt.ylabel('Sales in 1000 $')\n",
        "plt.title('TV Advertising Spend vs. Sales in 1000$')\n",
        "plt.show()\n"
      ],
      "metadata": {
        "id": "afYrF6s2FSa7"
      },
      "execution_count": null,
      "outputs": []
    },
    {
      "cell_type": "code",
      "source": [
        "\n",
        "plt.figure(figsize=(10, 6))\n",
        "df_sample = df_base.sample(10)\n",
        "plt.scatter(df_sample['TV'], df_sample['Sales'], marker='X', s=100)  # s controls the size of the markers\n",
        "plt.xlabel('TV Advertising Spend')\n",
        "plt.ylabel('Sales in 1000')\n",
        "plt.title('TV Advertising Spend vs. Sales')\n",
        "plt.axvline(x=175, color='red', linestyle='--')\n",
        "plt.show()\n"
      ],
      "metadata": {
        "id": "URX14MQAF75e"
      },
      "execution_count": null,
      "outputs": []
    },
    {
      "cell_type": "code",
      "source": [
        "\n",
        "plt.figure(figsize=(10, 6))\n",
        "df_sample = df_base.sample(10)\n",
        "plt.scatter(df_sample['TV'], df_sample['Sales'], marker='X', s=100)  # s controls the size of the markers\n",
        "plt.xlabel('TV Advertising Spend')\n",
        "plt.ylabel('Sales in 1000')\n",
        "plt.title('TV Advertising Spend vs. Sales')\n",
        "plt.axvline(x=115, color='red', linestyle='--')\n",
        "plt.show()\n"
      ],
      "metadata": {
        "id": "9dpntGuyGPwZ"
      },
      "execution_count": null,
      "outputs": []
    },
    {
      "cell_type": "markdown",
      "source": [
        "# 3. Plotting with a Horizontal Line at Average Sales\n",
        "Let's add a horizontal line representing the average sales from our sample."
      ],
      "metadata": {
        "id": "01v_D41oW55J"
      }
    },
    {
      "cell_type": "code",
      "source": [
        "\n",
        "plt.figure(figsize=(10, 6))\n",
        "df_sample = df_base.sample(10)\n",
        "plt.scatter(df_sample['TV'], df_sample['Sales'], marker='X', s=100)  # s controls the size of the markers\n",
        "plt.xlabel('TV Advertising Spend')\n",
        "plt.ylabel('Sales in 1000')\n",
        "plt.title('TV Advertising Spend vs. Sales')\n",
        "average_sales = df_sample['Sales'].mean()\n",
        "plt.axhline(y=average_sales, color='red', linestyle='--', label=f'Average Sales: {average_sales:.2f}')\n",
        "plt.legend()\n",
        "plt.show()\n"
      ],
      "metadata": {
        "id": "GnuY77RSGXI8"
      },
      "execution_count": null,
      "outputs": []
    },
    {
      "cell_type": "markdown",
      "source": [
        "# 4. K-Nearest Neighbors (KNN) Regression\n",
        "Fitting KNN on Sample Data"
      ],
      "metadata": {
        "id": "E8taU7M8X0CP"
      }
    },
    {
      "cell_type": "code",
      "source": [
        "# prompt: now, plot a knn predictor for the sample data base (at 10) with the real values and the predicted values. The real values in scatter plot and the predictive value as line\n",
        "\n",
        "from sklearn.neighbors import KNeighborsRegressor\n",
        "\n",
        "# Sample data\n",
        "df_sample = df_base.sample(10)\n",
        "X = df_sample[['TV']]\n",
        "y = df_sample['Sales']\n",
        "\n",
        "# Create and train the KNN model\n",
        "knn = KNeighborsRegressor(n_neighbors=1)\n",
        "knn.fit(X, y)\n",
        "\n",
        "# Generate predictions\n",
        "X_pred = np.linspace(X['TV'].min(), X['TV'].max(), 50).reshape(-1, 1)\n",
        "y_pred = knn.predict(X_pred)\n",
        "\n",
        "\n",
        "# Plot the results\n",
        "plt.figure(figsize=(10, 6))\n",
        "plt.scatter(X, y, label='Real Values', marker='X',  s=100)\n",
        "plt.plot(X_pred, y_pred, label='Predicted Values', color='red')\n",
        "plt.xlabel('TV Advertising Spend')\n",
        "plt.ylabel('Sales in 1000')\n",
        "plt.title('KNN Regression for Sales Prediction')\n",
        "plt.legend()\n",
        "plt.show()\n"
      ],
      "metadata": {
        "id": "8IeoCPUHGpO9"
      },
      "execution_count": null,
      "outputs": []
    },
    {
      "cell_type": "markdown",
      "source": [
        "# 5. Fitting KNN on Full Data\n",
        "Now, we'll fit the KNN regressor on the entire dataset for a more comprehensive model.\n",
        "\n",
        "python"
      ],
      "metadata": {
        "id": "5tbi0B0XYBcA"
      }
    },
    {
      "cell_type": "code",
      "source": [
        "\n",
        "from sklearn.neighbors import KNeighborsRegressor\n",
        "\n",
        "# Sample data\n",
        "df_sample = df_base\n",
        "X = df_sample[['TV']]\n",
        "y = df_sample['Sales']\n",
        "\n",
        "# Create and train the KNN model\n",
        "knn = KNeighborsRegressor(n_neighbors=1)\n",
        "knn.fit(X, y)\n",
        "\n",
        "# Generate predictions\n",
        "X_pred = np.linspace(X['TV'].min(), X['TV'].max(), 200).reshape(-1, 1)\n",
        "y_pred = knn.predict(X_pred)\n",
        "\n",
        "\n",
        "# Plot the results\n",
        "plt.figure(figsize=(10, 6))\n",
        "plt.scatter(X, y, label='Real Values', marker='X',  s=100)\n",
        "plt.plot(X_pred, y_pred, label='Predicted Values', color='red')\n",
        "plt.xlabel('TV Advertising Spend')\n",
        "plt.ylabel('Sales in 1000')\n",
        "plt.title('KNN Regression for Sales Prediction')\n",
        "plt.legend()\n",
        "plt.show()"
      ],
      "metadata": {
        "id": "CJEul8uCHmLJ"
      },
      "execution_count": null,
      "outputs": []
    },
    {
      "cell_type": "markdown",
      "source": [
        "## 6. Calculating Mean Squared Error (MSE) for KNN\n",
        "We evaluate the KNN model by calculating the Mean Squared Error (MSE) between the actual and predicted sales."
      ],
      "metadata": {
        "id": "bhu__pthYkj9"
      }
    },
    {
      "cell_type": "code",
      "source": [
        "\n",
        "from sklearn.metrics import mean_squared_error\n",
        "\n",
        "# Calculate MSE\n",
        "\n",
        "mse_knn = mean_squared_error(y, knn.predict(X))\n",
        "print(f\"Mean Squared Error (MSE): {mse_knn}\")\n"
      ],
      "metadata": {
        "id": "rK7TSQDgHyTM"
      },
      "execution_count": null,
      "outputs": []
    },
    {
      "cell_type": "markdown",
      "source": [
        "## 7. Linear Regression\n",
        "Fitting Linear Regression on Sample Data\n",
        "We fit a linear regression model using the same sample of 10 data points."
      ],
      "metadata": {
        "id": "9oD1qrmyYs78"
      }
    },
    {
      "cell_type": "code",
      "source": [
        "from sklearn.linear_model import LinearRegression\n",
        "import numpy as np\n",
        "import matplotlib.pyplot as plt\n",
        "\n",
        "# Sample data\n",
        "df_sample = df_base.sample(10)\n",
        "X = df_sample[['TV']]\n",
        "y = df_sample['Sales']\n",
        "\n",
        "# Create and train the Linear Regression model\n",
        "linear_reg = LinearRegression()\n",
        "linear_reg.fit(X, y)\n",
        "\n",
        "# Generate predictions\n",
        "X_pred = np.linspace(X['TV'].min(), X['TV'].max(), 50).reshape(-1, 1)\n",
        "y_pred = linear_reg.predict(X_pred)\n",
        "\n",
        "# Plot the results\n",
        "plt.figure(figsize=(10, 6))\n",
        "plt.scatter(X, y, label='Real Values', marker='X', s=100)\n",
        "plt.plot(X_pred, y_pred, label='Predicted Values', color='red')\n",
        "plt.xlabel('TV Advertising Spend')\n",
        "plt.ylabel('Sales in 1000')\n",
        "plt.title('Linear Regression for Sales Prediction')\n",
        "plt.legend()\n",
        "plt.show()\n"
      ],
      "metadata": {
        "id": "d1m_oX-iKoMZ"
      },
      "execution_count": null,
      "outputs": []
    },
    {
      "cell_type": "markdown",
      "source": [
        "\n",
        "\n",
        "## 8. Fitting Linear Regression on Full Data\n",
        "Now, we'll fit the linear regression model on the entire dataset."
      ],
      "metadata": {
        "id": "rs7nuFUoYy3U"
      }
    },
    {
      "cell_type": "code",
      "source": [
        "from sklearn.linear_model import LinearRegression\n",
        "import numpy as np\n",
        "import matplotlib.pyplot as plt\n",
        "\n",
        "# Sample data\n",
        "df_sample = df_base\n",
        "X = df_sample[['TV']]\n",
        "y = df_sample['Sales']\n",
        "\n",
        "# Create and train the Linear Regression model\n",
        "linear_reg = LinearRegression()\n",
        "linear_reg.fit(X, y)\n",
        "\n",
        "# Generate predictions\n",
        "X_pred = np.linspace(X['TV'].min(), X['TV'].max(), 50).reshape(-1, 1)\n",
        "y_pred = linear_reg.predict(X_pred)\n",
        "\n",
        "# Plot the results\n",
        "plt.figure(figsize=(10, 6))\n",
        "plt.scatter(X, y, label='Real Values', marker='X', s=100)\n",
        "plt.plot(X_pred, y_pred, label='Predicted Values', color='red')\n",
        "plt.xlabel('TV Advertising Spend')\n",
        "plt.ylabel('Sales in 1000')\n",
        "plt.title('Linear Regression for Sales Prediction')\n",
        "plt.legend()\n",
        "plt.show()\n"
      ],
      "metadata": {
        "id": "6Iq0FeOZK3S-"
      },
      "execution_count": null,
      "outputs": []
    },
    {
      "cell_type": "markdown",
      "source": [
        "## 9. Calculating Mean Squared Error (MSE) for Linear Regression\n",
        "We evaluate the linear regression model by calculating the MSE."
      ],
      "metadata": {
        "id": "XpNCCLoVZCIs"
      }
    },
    {
      "cell_type": "code",
      "source": [
        "\n",
        "from sklearn.metrics import mean_squared_error\n",
        "\n",
        "# Calculate MSE\n",
        "\n",
        "mse_lr = mean_squared_error(y, linear_reg.predict(X))\n",
        "print(f\"Mean Squared Error (MSE): {mse}\")\n"
      ],
      "metadata": {
        "id": "b8zM66uqZAKR"
      },
      "execution_count": null,
      "outputs": []
    },
    {
      "cell_type": "code",
      "source": [
        "print(f\"Mean Squared Error (MSE) of KNN Model: {mse_knn:.2f}\")\n",
        "print(f\"Mean Squared Error (MSE) of Linear Regression Model: {mse_lr:.2f}\")\n"
      ],
      "metadata": {
        "id": "LGTeXgzEKRpt"
      },
      "execution_count": null,
      "outputs": []
    }
  ]
}
