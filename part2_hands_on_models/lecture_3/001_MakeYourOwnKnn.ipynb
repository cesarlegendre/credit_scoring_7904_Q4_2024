{
  "nbformat": 4,
  "nbformat_minor": 0,
  "metadata": {
    "colab": {
      "provenance": []
    },
    "kernelspec": {
      "name": "python3",
      "display_name": "Python 3"
    },
    "language_info": {
      "name": "python"
    }
  },
  "cells": [
    {
      "cell_type": "markdown",
      "source": [
        "# Make your own KNN\n",
        "\n",
        "\n",
        "In this notebook, we will explore and compare two regression models—K-Nearest Neighbors (KNN) and Linear Regression—to predict sales based on TV advertising spend. We'll visualize the data, fit both models, and evaluate their performance.\n",
        "\n",
        "\n",
        "## 1. Cloning the Repository and Loading Data\n",
        "\n",
        "First, we need to clone the repository that contains the dataset we'll be using."
      ],
      "metadata": {
        "id": "UaOiDhbOWblD"
      }
    },
    {
      "cell_type": "code",
      "execution_count": null,
      "metadata": {
        "id": "F_kSNxWcEzNf"
      },
      "outputs": [],
      "source": [
        "!git clone https://github.com/cesarlegendre/credit_scoring_7904_Q4_2024"
      ]
    },
    {
      "cell_type": "markdown",
      "source": [
        "\n",
        "## 2. Importing Necessary Libraries\n",
        "\n",
        "\n",
        "We start by importing all the necessary libraries for data manipulation, visualization, and modeling.\n",
        "\n",
        "\n"
      ],
      "metadata": {
        "id": "RmjFxaFLUn-3"
      }
    },
    {
      "cell_type": "markdown",
      "source": [],
      "metadata": {
        "id": "4bAf_oBiAzQ7"
      }
    },
    {
      "cell_type": "code",
      "source": [
        "import pandas as pd\n",
        "import numpy as np\n",
        "import matplotlib.pyplot as plt\n",
        "import seaborn as sns\n",
        "%matplotlib inline\n",
        "from sklearn.preprocessing import StandardScaler\n",
        "from sklearn.model_selection import train_test_split\n",
        "from sklearn.metrics import roc_auc_score, roc_curve, auc\n",
        "import warnings\n",
        "warnings.filterwarnings('ignore')\n",
        "\n",
        "# Load data\n",
        "path = 'credit_scoring_7904_Q4_2024/data_sets/advertising/data.csv'\n",
        "df_base = pd.read_csv(path)\n",
        "df_base"
      ],
      "metadata": {
        "id": "W655OViXFNo6"
      },
      "execution_count": null,
      "outputs": []
    },
    {
      "cell_type": "markdown",
      "source": [
        "# 2. K-Nearest Neighbors (KNN) Regression\n",
        "Fitting KNN on Sample Data"
      ],
      "metadata": {
        "id": "qx3iZumuAHv7"
      }
    },
    {
      "cell_type": "code",
      "source": [
        "# prompt: now, plot a knn predictor for the sample data base (at 10) with the real values and the predicted values. The real values in scatter plot and the predictive value as line\n",
        "\n",
        "from sklearn.neighbors import KNeighborsRegressor\n",
        "\n",
        "# Sample data\n",
        "df_sample = df_base.sample(10)\n",
        "X = df_sample[['TV']]\n",
        "y = df_sample['Sales']\n",
        "\n",
        "# Create and train the KNN model\n",
        "knn = KNeighborsRegressor(n_neighbors=1)\n",
        "knn.fit(X, y)\n",
        "\n",
        "# Generate predictions\n",
        "X_pred = np.linspace(X['TV'].min(), X['TV'].max(), 50).reshape(-1, 1)\n",
        "y_pred = knn.predict(X_pred)\n",
        "\n",
        "\n",
        "# Plot the results\n",
        "plt.figure(figsize=(10, 6))\n",
        "plt.scatter(X, y, label='Real Values', marker='X',  s=100)\n",
        "plt.plot(X_pred, y_pred, label='Predicted Values', color='red')\n",
        "plt.xlabel('TV Advertising Spend')\n",
        "plt.ylabel('Sales in 1000')\n",
        "plt.title('KNN Regression for Sales Prediction')\n",
        "plt.legend()\n",
        "plt.show()\n"
      ],
      "metadata": {
        "id": "8IeoCPUHGpO9"
      },
      "execution_count": null,
      "outputs": []
    },
    {
      "cell_type": "markdown",
      "source": [
        "# 3. Code it yourself"
      ],
      "metadata": {
        "id": "3DxgoQU-D3VB"
      }
    },
    {
      "cell_type": "code",
      "source": [
        "import numpy as np\n",
        "import pandas as pd\n",
        "import matplotlib.pyplot as plt\n",
        "\n",
        "# Sample data (replace df_base with your actual DataFrame)\n",
        "# For illustration purposes, we'll create a dummy DataFrame\n",
        "np.random.seed(0)\n",
        "df_base = pd.DataFrame({\n",
        "    'TV': np.random.uniform(0, 300, 200),\n",
        "    'Sales': np.random.uniform(0, 20, 200)\n",
        "})\n",
        "\n",
        "class KNNRegressor:\n",
        "    def __init__(self, n_neighbors=1):\n",
        "        \"\"\"\n",
        "        Initialize the KNN regressor with the number of neighbors.\n",
        "\n",
        "        Parameters:\n",
        "        n_neighbors (int): Number of nearest neighbors to consider.\n",
        "        \"\"\"\n",
        "        self.n_neighbors = n_neighbors\n",
        "\n",
        "    def fit(self, X, y):\n",
        "        \"\"\"\n",
        "        Fit the KNN regressor with training data.\n",
        "\n",
        "        Parameters:\n",
        "        X (array-like): Feature matrix of shape (n_samples, n_features).\n",
        "        y (array-like): Target vector of shape (n_samples,).\n",
        "        \"\"\"\n",
        "        self.X_train = np.asarray(X)\n",
        "        self.y_train = np.asarray(y)\n",
        "\n",
        "    def predict(self, X_pred):\n",
        "        \"\"\"\n",
        "        Predict the target values for given feature matrix.\n",
        "\n",
        "        Parameters:\n",
        "        X_pred (array-like): Feature matrix of shape (n_samples, n_features).\n",
        "\n",
        "        Returns:\n",
        "        y_pred (array): Predicted target values.\n",
        "        \"\"\"\n",
        "        X_pred = np.asarray(X_pred)\n",
        "        y_pred = []\n",
        "        for x_test in X_pred:\n",
        "            # Compute distances between x_test and all training samples\n",
        "            # clue, use np.liang.norm to compute the distance between X_train and x_text\n",
        "            # Clue, use import pdb; pdb.set_trace() to stop the code and exit() to get out the debugger\n",
        "            #import pdb; pdb.set_trace()\n",
        "            #####################  Your code here ####################\n",
        "            # distances = # your code here\n",
        "            #####################  Your code here ####################\n",
        "\n",
        "            # Find the indices of the k nearest neighbors\n",
        "            # Clue, depends on distance, order the distance take the indexes and fin the k neignbougs\n",
        "\n",
        "            #####################  Your code here ####################\n",
        "            #neighbors_idx = # your code here\n",
        "            #####################  Your code here ####################\n",
        "\n",
        "            # Compute the mean target value of the nearest neighbors\n",
        "            y_mean = np.mean(self.y_train[neighbors_idx])\n",
        "            y_pred.append(y_mean)\n",
        "        return np.array(y_pred)\n",
        "\n",
        "\n",
        "\n",
        "# Sample data\n",
        "X = df_sample[['TV']]\n",
        "y = df_sample['Sales']\n",
        "\n",
        "# Create and train the KNN model\n",
        "knn_my = KNNRegressor(n_neighbors=1)\n",
        "knn_my.fit(X, y)\n",
        "\n",
        "# Generate predictions\n",
        "X_pred = np.linspace(X['TV'].min(), X['TV'].max(), 50).reshape(-1, 1)\n",
        "y_pred = knn_my.predict(X_pred)\n",
        "\n",
        "# Plot the results\n",
        "plt.figure(figsize=(10, 6))\n",
        "plt.scatter(X, y, label='Real Values', marker='X', s=100)\n",
        "plt.plot(X_pred, y_pred, label='Predicted Values', color='red')\n",
        "plt.xlabel('TV Advertising Spend')\n",
        "plt.ylabel('Sales in 1000')\n",
        "plt.title('KNN Regression for Sales Prediction')\n",
        "plt.legend()\n",
        "plt.show()\n"
      ],
      "metadata": {
        "id": "oUqdSYJMAoUj"
      },
      "execution_count": null,
      "outputs": []
    }
  ]
}
