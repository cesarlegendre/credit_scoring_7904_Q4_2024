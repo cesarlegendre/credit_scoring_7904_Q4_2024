{
  "nbformat": 4,
  "nbformat_minor": 0,
  "metadata": {
    "colab": {
      "provenance": []
    },
    "kernelspec": {
      "name": "python3",
      "display_name": "Python 3"
    },
    "language_info": {
      "name": "python"
    }
  },
  "cells": [
    {
      "cell_type": "code",
      "execution_count": null,
      "metadata": {
        "id": "f9phsvhzgEhK"
      },
      "outputs": [],
      "source": [
        "!git clone https://github.com/cesarlegendre/credit_scoring_7904_Q4_2024"
      ]
    },
    {
      "cell_type": "code",
      "source": [],
      "metadata": {
        "id": "HheMbIu5qYfp"
      },
      "execution_count": null,
      "outputs": []
    },
    {
      "cell_type": "markdown",
      "source": [
        "\n",
        "\n",
        "# **Credit Scoring Prediction**\n",
        "\n",
        "\n",
        "## Introduction\n",
        "This notebook aims to predict whether an individual has a good credit score based on several factors. We'll transform the credit score into a binary classification problem and use various machine learning models to perform the prediction. The steps include:\n",
        "\n",
        "* Data preprocessing and feature engineering\n",
        "* Splitting the data for training and testing\n",
        "* Training multiple classifiers with hyperparameter tuning\n",
        "* Evaluating and comparing model performances\n",
        "\n"
      ],
      "metadata": {
        "id": "igfgvWbZiuZv"
      }
    },
    {
      "cell_type": "code",
      "source": [
        "import numpy as np\n",
        "import pandas as pd\n",
        "\n",
        "# Visualization\n",
        "import seaborn as sns\n",
        "import matplotlib.pyplot as plt\n",
        "\n",
        "# Models\n",
        "from sklearn.linear_model import LogisticRegression\n",
        "from sklearn.neighbors import KNeighborsClassifier\n",
        "from sklearn.ensemble import RandomForestClassifier, GradientBoostingClassifier\n",
        "from sklearn.svm import SVC\n",
        "\n",
        "# Model selection\n",
        "from sklearn.model_selection import GridSearchCV, RandomizedSearchCV, train_test_split, StratifiedKFold\n",
        "\n",
        "# Metrics\n",
        "from sklearn.metrics import classification_report, confusion_matrix, accuracy_score\n",
        "\n",
        "\n",
        "file = 'credit_scoring_7904_Q4_2024/data_sets/credit_score/credit_score_small.csv'\n",
        "\n",
        "np.random.seed(42)\n",
        "\n"
      ],
      "metadata": {
        "id": "ENTbAikwjap9"
      },
      "execution_count": null,
      "outputs": []
    },
    {
      "cell_type": "markdown",
      "source": [
        "# Loading the Data\n",
        "We load the dataset"
      ],
      "metadata": {
        "id": "Rwnelmzhjl5G"
      }
    },
    {
      "cell_type": "code",
      "source": [
        "# Load data\n",
        "df = pd.read_csv(file)\n",
        "\n",
        "\n",
        "# Adding some randoness\n",
        "df['Age'] = np.round(np.array(df['Age'].tolist()) + np.random.uniform(-5, 5, len(df)),2)\n",
        "df['Income'] = np.round(np.array(df['Income'].tolist()) + np.random.uniform(-df['Income'].min(), df['Income'].min(), len(df)))\n",
        "\n",
        "df.sample(4)"
      ],
      "metadata": {
        "id": "WAWCx1mxjjAn"
      },
      "execution_count": null,
      "outputs": []
    },
    {
      "cell_type": "markdown",
      "source": [
        "## Understanding the Data\n",
        "\n",
        "This dataset contains information about a sample of over 100 people across the world. The data includes the following information:\n",
        "\n",
        "* Age\n",
        "* Gender\n",
        "* Income\n",
        "* Education\n",
        "* Marital Status\n",
        "* Number of Children\n",
        "* Home Ownership\n",
        "* Credit Score"
      ],
      "metadata": {
        "id": "qcbV1RiWhOwR"
      }
    },
    {
      "cell_type": "markdown",
      "source": [
        "## Data Preprocessing\n",
        "### Transforming the Target Variable\n",
        "\n",
        "We will transform the Credit_Score into a binary variable called Good_Credit:\n",
        "\n",
        "* 1 if Credit_Score is High\n",
        "* 0 otherwise\n",
        "\n",
        "Create a new column called Good_Credit in your DataFrame.\n",
        "\n",
        "* Use the .apply() function to transform the 'Credit Score' column.\n",
        "* Set Good_Credit to 1 if the 'Credit Score' is 'High', otherwise set it to 0.\n",
        "* Use a lambda function for the conditional logic"
      ],
      "metadata": {
        "id": "sAcjyW03rSzt"
      }
    },
    {
      "cell_type": "code",
      "source": [],
      "metadata": {
        "id": "7rFvYzoc5nDa"
      },
      "execution_count": null,
      "outputs": []
    },
    {
      "cell_type": "code",
      "source": [
        "# exer\n",
        "# df['Good_Credit'] =  # yout code here\n",
        "# df['Good_Credit'].value_counts()\n",
        "# solution 1\n",
        "# ****"
      ],
      "metadata": {
        "id": "joKYBa6CrXYO"
      },
      "execution_count": null,
      "outputs": []
    },
    {
      "cell_type": "markdown",
      "source": [
        "###  Encoding Categorical Variables\n",
        "\n",
        "\n",
        "* Display the unique values in the Gender column.\n",
        "\n",
        "* Create a new column Gender_Male:\n",
        "\n",
        "* Display the unique values in the Marital Status column.\n",
        "\n",
        "* Create a new column Marital_Status_Married\n",
        "\n",
        "* Create a new column Marital_Status_Married\n",
        "\n",
        "* Create a new column Home_Ownership_Owned\n",
        "\n"
      ],
      "metadata": {
        "id": "ig4579S3rmcP"
      }
    },
    {
      "cell_type": "code",
      "source": [
        "print(df['Gender'].unique())\n",
        "\n",
        "df['Gender_Male'] = df['Gender'].map({'Female': 0, 'Male': 1}) # done for you\n",
        "\n",
        "print(df['Marital Status'].unique())\n",
        "\n",
        "# exersice df['Marital_Status_Married'] = # your code here\n",
        "\n",
        "# solution 2\n",
        "# ****\n",
        "print(df['Home Ownership'].unique())\n",
        "\n",
        "\n",
        "# exer\n",
        "# df['Home_Ownership_Owned'] = # your code here\n",
        "\n",
        "# solution 3\n",
        "# ****"
      ],
      "metadata": {
        "id": "cMSHt27srpfu"
      },
      "execution_count": null,
      "outputs": []
    },
    {
      "cell_type": "code",
      "source": [
        "print(df['Education'].unique())"
      ],
      "metadata": {
        "id": "G0Ht7snesKNC"
      },
      "execution_count": null,
      "outputs": []
    },
    {
      "cell_type": "code",
      "source": [
        "education_dummies = pd.get_dummies(df['Education'], prefix='Education', drop_first=True)\n",
        "df = pd.concat([df, education_dummies], axis=1)"
      ],
      "metadata": {
        "id": "ZPFATBo5sXPJ"
      },
      "execution_count": null,
      "outputs": []
    },
    {
      "cell_type": "code",
      "source": [
        "df.drop(['Gender', 'Marital Status', 'Home Ownership', 'Education', 'Credit Score'], axis=1, inplace=True)\n",
        "df.head()\n"
      ],
      "metadata": {
        "id": "GZid_BwIsRCU"
      },
      "execution_count": null,
      "outputs": []
    },
    {
      "cell_type": "markdown",
      "source": [
        "## Exploratory Data Analysis\n",
        "### Checking for Missing Values"
      ],
      "metadata": {
        "id": "-8RI1dOrsijH"
      }
    },
    {
      "cell_type": "code",
      "source": [
        "#check missing values, i.e. is null and sum\n",
        "\n",
        "# solution 4\n",
        "# ****\n"
      ],
      "metadata": {
        "id": "kGrJp2E5sksa"
      },
      "execution_count": null,
      "outputs": []
    },
    {
      "cell_type": "code",
      "source": [
        "# describe the data set\n",
        "# solution 5\n",
        "# ****\n"
      ],
      "metadata": {
        "id": "ikwdl83zsnkN"
      },
      "execution_count": null,
      "outputs": []
    },
    {
      "cell_type": "markdown",
      "source": [
        "### Distribution of Numerical Features"
      ],
      "metadata": {
        "id": "3H0_01zIsyjo"
      }
    },
    {
      "cell_type": "code",
      "source": [
        "plt.figure(figsize=(15, 5))\n",
        "\n",
        "plt.subplot(1, 3, 1)\n",
        "# plo sns histograme AGE\n",
        "sns.histplot(df['Age'], bins=20, kde=True)\n",
        "plt.title('Distribution of Age')\n",
        "\n",
        "plt.subplot(1, 3, 2)\n",
        "\n",
        "# exer : plot hist for income, bins =  20\n",
        "# solution 6\n",
        "# ****\n",
        "plt.title('Distribution of Income')\n",
        "\n",
        "plt.subplot(1, 3, 3)\n",
        "\n",
        "# exer : plot hist for Number of children, bins =  4\n",
        "# solution 7\n",
        "# ****\n",
        "plt.title('Distribution of Number of Children')\n",
        "\n",
        "plt.tight_layout()\n",
        "plt.show()\n"
      ],
      "metadata": {
        "id": "5HcCmwlxsxXO"
      },
      "execution_count": null,
      "outputs": []
    },
    {
      "cell_type": "markdown",
      "source": [
        "### Correlation Matrix"
      ],
      "metadata": {
        "id": "qWl_ViQds8_f"
      }
    },
    {
      "cell_type": "code",
      "source": [
        "plt.figure(figsize=(12, 8))\n",
        "\n",
        "# exer = plot correlation matrixs with anotation and cmap coolwarn\n",
        "# solution 8\n",
        "# ****\n",
        "plt.title('Correlation Matrix')\n",
        "plt.show()"
      ],
      "metadata": {
        "id": "YTi9yKP6s-7e"
      },
      "execution_count": null,
      "outputs": []
    },
    {
      "cell_type": "markdown",
      "source": [
        "## Feature Engineering\n",
        "\n"
      ],
      "metadata": {
        "id": "jsnoH9XptJ7O"
      }
    },
    {
      "cell_type": "code",
      "source": [
        "X = df.drop('Good_Credit', axis=1)\n",
        "y = df['Good_Credit']\n",
        "\n",
        "\n",
        "# exercise get the training test split, test size 20, use stratify = y and a random state\n",
        "#X_train, X_test, y_train, y_test = train_test_split( #your code here)\n",
        "# solution 9\n",
        "# ****\n",
        "\n",
        "\n",
        "kfold = StratifiedKFold(n_splits=5, shuffle=True, random_state=42)"
      ],
      "metadata": {
        "id": "TtB_PQKHtSOo"
      },
      "execution_count": null,
      "outputs": []
    },
    {
      "cell_type": "markdown",
      "source": [
        "## Model Training and Hyperparameter Tuning\n",
        "\n",
        "We will train the following classifiers:\n",
        "\n",
        "* Logistic Regression\n",
        "* Random Forest Classifier\n",
        "* Gradient Boosting Classifie"
      ],
      "metadata": {
        "id": "cMXtAKQFtXcV"
      }
    },
    {
      "cell_type": "markdown",
      "source": [
        "### Logistic Regression"
      ],
      "metadata": {
        "id": "MHeeVfv4tfD8"
      }
    },
    {
      "cell_type": "code",
      "source": [
        "# exersice\n",
        "# define a param grid with C =  [0.01, 0.1, 1, 5, 7] and solver = ['liblinear']\n",
        "# param_grid_lr = # your code here, a dict\n",
        "\n",
        "# solution 10\n",
        "# ****\n"
      ],
      "metadata": {
        "id": "4atcYIX_tiJX"
      },
      "execution_count": null,
      "outputs": []
    },
    {
      "cell_type": "code",
      "source": [
        "grid_search_lr = GridSearchCV(\n",
        "    estimator=LogisticRegression(max_iter=1000),\n",
        "    param_grid=param_grid_lr,\n",
        "    cv=kfold,\n",
        "    scoring='accuracy',\n",
        "    n_jobs=-1\n",
        ")\n",
        "\n",
        "grid_search_lr.fit(X_train, y_train)\n"
      ],
      "metadata": {
        "id": "0WKJyX1qtjKJ"
      },
      "execution_count": null,
      "outputs": []
    },
    {
      "cell_type": "code",
      "source": [
        "print(\"Best Hyperparameters for Logistic Regression:\")\n",
        "print(grid_search_lr.best_params_)\n"
      ],
      "metadata": {
        "id": "JDqr0FL4tk7I"
      },
      "execution_count": null,
      "outputs": []
    },
    {
      "cell_type": "code",
      "source": [
        "\n",
        "# excercise\n",
        "# best_lr = # get the best predictor\n",
        "# y_pred_lr =  # predict using X_text\n",
        "\n",
        "# solution 11\n",
        "# ****\n",
        "\n",
        "print(\"\\nClassification Report for Logistic Regression:\")\n",
        "print(classification_report(y_test, y_pred_lr))\n",
        "\n",
        "lr_accuracy = accuracy_score(y_test, y_pred_lr)\n"
      ],
      "metadata": {
        "id": "aBI4a96xt1AY"
      },
      "execution_count": null,
      "outputs": []
    },
    {
      "cell_type": "markdown",
      "source": [
        "## Random Forest Classifier"
      ],
      "metadata": {
        "id": "R--y6FuCxo5B"
      }
    },
    {
      "cell_type": "code",
      "source": [
        "param_grid_rf = {\n",
        "    'n_estimators': [100, 200, 300],\n",
        "    'max_depth': [None, 5, 10, 15],\n",
        "    'min_samples_split': [2, 10],\n",
        "    'min_samples_leaf': [1, 4],\n",
        "}\n",
        "\n",
        "\n",
        "random_search_rf = RandomizedSearchCV(\n",
        "    estimator=RandomForestClassifier(random_state=42),\n",
        "    param_distributions=param_grid_rf,\n",
        "    n_iter=50,\n",
        "    cv=kfold,\n",
        "    scoring='accuracy',\n",
        "    n_jobs=-1,\n",
        "    random_state=42\n",
        ")\n",
        "random_search_rf.fit(X_train, y_train)"
      ],
      "metadata": {
        "id": "lWwFYD7exoAb"
      },
      "execution_count": null,
      "outputs": []
    },
    {
      "cell_type": "code",
      "source": [
        "print(\"Best Hyperparameters for Random Forest:\")\n",
        "print(random_search_rf.best_params_)"
      ],
      "metadata": {
        "id": "A5pIQCov3Ay1"
      },
      "execution_count": null,
      "outputs": []
    },
    {
      "cell_type": "code",
      "source": [
        "best_rf = random_search_rf.best_estimator_\n",
        "y_pred_rf = best_rf.predict(X_test)\n",
        "\n",
        "print(\"\\nClassification Report for Random Forest:\")\n",
        "print(classification_report(y_test, y_pred_rf))\n",
        "\n",
        "rf_accuracy = accuracy_score(y_test, y_pred_rf)"
      ],
      "metadata": {
        "id": "be0Qfar13DiT"
      },
      "execution_count": null,
      "outputs": []
    },
    {
      "cell_type": "markdown",
      "source": [
        "# Gradient Boosting"
      ],
      "metadata": {
        "id": "rAGd6E-93KpG"
      }
    },
    {
      "cell_type": "code",
      "source": [
        "param_grid_gb = {\n",
        "    'n_estimators': [100, 200, 300],\n",
        "    'learning_rate': [0.01, 0.1, 0.2],\n",
        "    'max_depth': [3, 5, 7],\n",
        "    'min_samples_split': [2, 5],\n",
        "}\n",
        "\n",
        "\n",
        "random_search_gb = RandomizedSearchCV(\n",
        "    estimator=GradientBoostingClassifier(random_state=42),\n",
        "    param_distributions=param_grid_gb,\n",
        "    n_iter=50,\n",
        "    cv=kfold,\n",
        "    scoring='accuracy',\n",
        "    n_jobs=-1,\n",
        "    random_state=42\n",
        ")\n",
        "random_search_gb.fit(X_train, y_train)\n",
        "\n",
        "\n",
        "\n"
      ],
      "metadata": {
        "id": "0qt7jXny3ONf"
      },
      "execution_count": null,
      "outputs": []
    },
    {
      "cell_type": "code",
      "source": [],
      "metadata": {
        "id": "BcQnrEM13yhE"
      },
      "execution_count": null,
      "outputs": []
    },
    {
      "cell_type": "code",
      "source": [
        "print(\"Best Hyperparameters for Gradient Boosting:\")\n",
        "print(random_search_gb.best_params_)"
      ],
      "metadata": {
        "id": "zvUDlJDo3wGR"
      },
      "execution_count": null,
      "outputs": []
    },
    {
      "cell_type": "code",
      "source": [
        "best_gb = random_search_gb.best_estimator_\n",
        "y_pred_gb = best_gb.predict(X_test)\n",
        "\n",
        "print(\"\\nClassification Report for Gradient Boosting:\")\n",
        "print(classification_report(y_test, y_pred_gb))\n",
        "\n",
        "gb_accuracy = accuracy_score(y_test, y_pred_gb)\n"
      ],
      "metadata": {
        "id": "D694aYYg30H0"
      },
      "execution_count": null,
      "outputs": []
    },
    {
      "cell_type": "markdown",
      "source": [
        "# Compare"
      ],
      "metadata": {
        "id": "wb2haL9K3nF6"
      }
    },
    {
      "cell_type": "code",
      "source": [
        "models_accuracy = {\n",
        "    'Logistic Regression': lr_accuracy,\n",
        "    'Random Forest': rf_accuracy,\n",
        "    'Gradient Boosting': gb_accuracy\n",
        "}\n",
        "\n",
        "print(\"\\nAccuracy Scores:\")\n",
        "for model_name, accuracy in models_accuracy.items():\n",
        "    print(f\"{model_name}: {accuracy:.4f}\")"
      ],
      "metadata": {
        "id": "IirGda5V3r8o"
      },
      "execution_count": null,
      "outputs": []
    }
  ]
}
