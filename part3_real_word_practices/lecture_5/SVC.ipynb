{
  "nbformat": 4,
  "nbformat_minor": 0,
  "metadata": {
    "colab": {
      "provenance": []
    },
    "kernelspec": {
      "name": "python3",
      "display_name": "Python 3"
    },
    "language_info": {
      "name": "python"
    }
  },
  "cells": [
    {
      "cell_type": "markdown",
      "source": [
        "\n",
        "# Support Vector Machine (SVM) Classifier Exercise\n",
        "\n",
        "This notebook will guide you through implementing an SVM classifier using Python's popular `scikit-learn` library. We will use the Iris dataset, specifically focusing on two features and two classes, to demonstrate the effectiveness of an SVM model and visualize its decision boundary.\n",
        "\n",
        "## Objectives\n",
        "- Understand how to build an SVM classifier.\n",
        "- Learn how to visualize the decision boundary.\n",
        "- Apply model evaluation techniques to assess performance.\n"
      ],
      "metadata": {
        "id": "ApJTxFLyuWf_"
      }
    },
    {
      "cell_type": "code",
      "source": [
        "# Step 1: Import Libraries\n",
        "import numpy as np\n",
        "import matplotlib.pyplot as plt\n",
        "from sklearn import datasets\n",
        "from sklearn.model_selection import train_test_split\n",
        "from sklearn.svm import SVC\n",
        "from sklearn.metrics import accuracy_score"
      ],
      "metadata": {
        "id": "gToBX7ixuWoQ"
      },
      "execution_count": null,
      "outputs": []
    },
    {
      "cell_type": "markdown",
      "source": [
        "\n",
        "## Step 2: Load the Iris Dataset\n",
        "\n",
        "\n",
        "We will use the Iris dataset from `scikit-learn`. To simplify visualization, we will use only the first two features (Sepal Length and Sepal Width) and two classes (Setosa and Versicolor)."
      ],
      "metadata": {
        "id": "EoWTk3dFuWxG"
      }
    },
    {
      "cell_type": "code",
      "source": [
        "iris = datasets.load_iris()\n",
        "\n",
        "# Select only two features for easy visualization (Sepal length and Sepal width) and two classes\n",
        "X = iris.data[iris.target != 2, :2]  # Use only the first two features and classes 0 & 1\n",
        "y = iris.target[iris.target != 2]  # Use only classes 0 and 1"
      ],
      "metadata": {
        "id": "ZKbAajrOuW4P"
      },
      "execution_count": null,
      "outputs": []
    },
    {
      "cell_type": "markdown",
      "source": [
        "## Step 3: Split the Data into Training and Test Sets\n",
        "\n",
        "We will split the dataset into training and testing sets using a 70/30 ratio.\n",
        "\n",
        "\n"
      ],
      "metadata": {
        "id": "-B9i0O9guW_z"
      }
    },
    {
      "cell_type": "code",
      "source": [
        "# Split the dataset into training and testing sets (70% for training, 30% for testing)\n",
        "X_train, X_test, y_train, y_test = train_test_split(X, y, test_size=0.3, random_state=42)"
      ],
      "metadata": {
        "id": "42ENZnNQuXHU"
      },
      "execution_count": null,
      "outputs": []
    },
    {
      "cell_type": "markdown",
      "source": [
        "\n",
        "\n",
        "## Step 4: Train the SVM Model\n",
        "\n",
        "We will train an SVM classifier with a linear kernel.\n",
        "\n",
        "\n"
      ],
      "metadata": {
        "id": "8EfCKRlPuXPr"
      }
    },
    {
      "cell_type": "code",
      "source": [
        "\n",
        "# Initialize and train the SVM model\n",
        "svm_clf = SVC(kernel='linear', random_state=42)\n",
        "svm_clf.fit(X_train, y_train)\n"
      ],
      "metadata": {
        "id": "nVk6J_3EuXXU"
      },
      "execution_count": null,
      "outputs": []
    },
    {
      "cell_type": "markdown",
      "source": [
        "\n",
        "## Step 5: Visualize the Decision Boundary\n",
        "\n",
        "To understand the decision-making of the SVM model, we will plot the decision boundary.\n",
        "\n",
        "\n"
      ],
      "metadata": {
        "id": "pTV-Gf81uXeo"
      }
    },
    {
      "cell_type": "code",
      "source": [
        "\n",
        "# Create a mesh to plot the decision boundary\n",
        "xx, yy = np.meshgrid(np.linspace(X[:, 0].min() - 1, X[:, 0].max() + 1, 100),\n",
        "                     np.linspace(X[:, 1].min() - 1, X[:, 1].max() + 1, 100))\n",
        "\n",
        "# Use the SVM model to predict over the mesh\n",
        "Z = svm_clf.predict(np.c_[xx.ravel(), yy.ravel()])\n",
        "Z = Z.reshape(xx.shape)\n",
        "\n",
        "# Plotting the decision boundary\n",
        "plt.figure(figsize=(10, 6))\n",
        "plt.contourf(xx, yy, Z, alpha=0.3, cmap='coolwarm')\n",
        "plt.scatter(X_train[:, 0], X_train[:, 1], c=y_train, s=100, edgecolor='k', cmap='coolwarm', alpha=0.6, label=\"Training Data\")\n",
        "plt.scatter(X_test[:, 0], X_test[:, 1], c=y_test, s=100, edgecolor='k', marker='x', cmap='coolwarm', alpha=0.8, label=\"Test Data\")\n",
        "plt.xlabel('Sepal Length')\n",
        "plt.ylabel('Sepal Width')\n",
        "plt.title('SVM Decision Boundary on Iris Dataset')\n",
        "plt.legend()\n",
        "plt.grid(True)\n",
        "plt.show()\n"
      ],
      "metadata": {
        "id": "N5wiMKUauXl0"
      },
      "execution_count": null,
      "outputs": []
    },
    {
      "cell_type": "markdown",
      "source": [
        "## Step 6: Make Predictions and Evaluate the Model\n",
        "\n",
        "We will now make predictions on the test set and evaluate the model's accuracy.\n",
        "\n"
      ],
      "metadata": {
        "id": "ZebKzMJEuXtL"
      }
    },
    {
      "cell_type": "code",
      "source": [
        "# Make predictions on the test set\n",
        "y_pred = svm_clf.predict(X_test)\n",
        "\n",
        "# Calculate accuracy\n",
        "accuracy = accuracy_score(y_test, y_pred)\n",
        "print(f\"Model Accuracy: {accuracy:.2f}\")"
      ],
      "metadata": {
        "id": "TrTTJ2VnuX1D"
      },
      "execution_count": null,
      "outputs": []
    },
    {
      "cell_type": "markdown",
      "source": [
        "\n",
        "\n",
        "## Interpretation of the Results\n",
        "\n",
        "- The **decision boundary** plot shows how the SVM model separates the two classes (Setosa and Versicolor) using a linear hyperplane.\n",
        "- The **accuracy score** shows how well the model performed on the test set. In our case, the accuracy score is quite high, indicating good performance.\n",
        "\n",
        "## Key Points\n",
        "\n",
        "- Support Vector Machines (SVM) are powerful models, especially for binary classification tasks.\n",
        "- The **linear kernel** was used here because of the simplicity of the data, but other kernels (e.g., RBF, polynomial) can be used for more complex datasets.\n",
        "- SVMs try to maximize the margin between classes, making them effective in finding decision boundaries that generalize well to unseen data.\n",
        "\n"
      ],
      "metadata": {
        "id": "ZNKXx5ZouX8f"
      }
    }
  ]
}
