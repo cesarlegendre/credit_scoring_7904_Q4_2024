{
  "nbformat": 4,
  "nbformat_minor": 0,
  "metadata": {
    "colab": {
      "provenance": []
    },
    "kernelspec": {
      "name": "python3",
      "display_name": "Python 3"
    },
    "language_info": {
      "name": "python"
    }
  },
  "cells": [
    {
      "cell_type": "markdown",
      "source": [
        "# Anscombe's Quartet Exercise\n",
        "\n",
        "The purpose of this exercise is to demonstrate the importance of data visualization in statistical analysis. Anscombe's Quartet consists of four datasets that have nearly identical summary statistics (e.g., mean, variance, and correlation), but look significantly different when graphed.\n",
        "\n",
        "By following this exercise, you will:\n",
        "\n",
        "* Plot all four datasets.\n",
        "* Visualize the differences between them.\n",
        "* See the necessity of graphical analysis alongside numerical data summaries.\n",
        "\n",
        "\n",
        "https://en.wikipedia.org/wiki/Anscombe%27s_quartet\n",
        "\n",
        "## 1. Import Libraries\n",
        "We start by importing the necessary libraries for data visualization and numerical operations:"
      ],
      "metadata": {
        "id": "6m3n0XBVcVha"
      }
    },
    {
      "cell_type": "code",
      "source": [
        "import matplotlib.pyplot as plt\n",
        "import numpy as np"
      ],
      "metadata": {
        "id": "XeE8CivucvB_"
      },
      "execution_count": 1,
      "outputs": []
    },
    {
      "cell_type": "markdown",
      "source": [
        "## 2. Create data sets\n",
        "Now we proceed to create the data sets"
      ],
      "metadata": {
        "id": "LMN5RyBxc61O"
      }
    },
    {
      "cell_type": "code",
      "source": [
        "# Set up the datasets provided in the code\n",
        "x = [10, 8, 13, 9, 11, 14, 6, 4, 12, 7, 5]\n",
        "y1 = [8.04, 6.95, 7.58, 8.81, 8.33, 9.96, 7.24, 4.26, 10.84, 4.82, 5.68]\n",
        "y2 = [9.14, 8.14, 8.74, 8.77, 9.26, 8.10, 6.13, 3.10, 9.13, 7.26, 4.74]\n",
        "y3 = [7.46, 6.77, 12.74, 7.11, 7.81, 8.84, 6.08, 5.39, 8.15, 6.42, 5.73]\n",
        "x4 = [8, 8, 8, 8, 8, 8, 8, 19, 8, 8, 8]\n",
        "y4 = [6.58, 5.76, 7.71, 8.84, 8.47, 7.04, 5.25, 12.50, 5.56, 7.91, 6.89]\n",
        "\n",
        "datasets = {\n",
        "    'I': (x, y1),\n",
        "    'II': (x, y2),\n",
        "    'III': (x, y3),\n",
        "    'IV': (x4, y4)\n",
        "}\n"
      ],
      "metadata": {
        "id": "sTfzRi8_dWJ9"
      },
      "execution_count": 2,
      "outputs": []
    },
    {
      "cell_type": "markdown",
      "source": [
        "## 3. We think that we are experts ?\n",
        "Let's plot some sumaries (statistics)\n",
        "Now we proceed to create the data sets\n",
        "\n",
        "\n",
        "\n"
      ],
      "metadata": {
        "id": "h0UB4PIodZ_d"
      }
    },
    {
      "cell_type": "code",
      "source": [
        "import pandas as pd\n",
        "\n",
        "# Create a DataFrame for the summary statistics of each dataset\n",
        "summary_stats = {\n",
        "    'Dataset': ['I', 'II', 'III', 'IV'],\n",
        "    'Mean_X': [np.mean(x), np.mean(x), np.mean(x), np.mean(x4)],\n",
        "    'Mean_Y': [np.mean(y1), np.mean(y2), np.mean(y3), np.mean(y4)],\n",
        "    'Variance_X': [np.var(x, ddof=1), np.var(x, ddof=1), np.var(x, ddof=1), np.var(x4, ddof=1)],\n",
        "    'Variance_Y': [np.var(y1, ddof=1), np.var(y2, ddof=1), np.var(y3, ddof=1), np.var(y4, ddof=1)],\n",
        "    'Correlation': [\n",
        "        np.corrcoef(x, y1)[0, 1],\n",
        "        np.corrcoef(x, y2)[0, 1],\n",
        "        np.corrcoef(x, y3)[0, 1],\n",
        "        np.corrcoef(x4, y4)[0, 1]\n",
        "    ]\n",
        "}\n",
        "\n",
        "summary_df = pd.DataFrame(summary_stats)\n",
        "\n",
        "#summary_df # uncomment this line"
      ],
      "metadata": {
        "id": "6sOE9wdrdYnU"
      },
      "execution_count": 3,
      "outputs": []
    },
    {
      "cell_type": "markdown",
      "source": [
        "What we see ?, this is a typical example of misleading statustical indicators !, Let's plot\n",
        "\n",
        "## 4. Let have some plots\n",
        "\n",
        "Lets plot the points and also fit the some curves"
      ],
      "metadata": {
        "id": "S2ceiOAOeEEU"
      }
    },
    {
      "cell_type": "code",
      "execution_count": 4,
      "metadata": {
        "id": "VcM4z2m6a908"
      },
      "outputs": [],
      "source": [
        "# Create a figure with 2x2 subplots for the four datasets\n",
        "plot_figure = False # put True to plot\n",
        "\n",
        "if plot_figure:\n",
        "  fig, axs = plt.subplots(2, 2, figsize=(10, 10))\n",
        "  fig.suptitle(\"Anscombe's Quartet\", fontsize=16)\n",
        "\n",
        "  # Define a list of titles for each subplot\n",
        "  titles = ['Dataset I', 'Dataset II', 'Dataset III', 'Dataset IV']\n",
        "\n",
        "  # Loop over datasets and plot each one on its corresponding axis\n",
        "  for ax, (title, (x_data, y_data)) in zip(axs.flatten(), zip(titles, datasets.values())):\n",
        "      ax.scatter(x_data, y_data, color='blue')\n",
        "      ax.plot(np.unique(x_data), np.poly1d(np.polyfit(x_data, y_data, 1))(np.unique(x_data)), color='red')\n",
        "      ax.set_title(title)\n",
        "      ax.set_xlabel('X')\n",
        "      ax.set_ylabel('Y')\n",
        "\n",
        "  # Adjust layout to prevent overlapping elements\n",
        "  plt.tight_layout(rect=[0, 0, 1, 0.95])\n",
        "  plt.show()\n"
      ]
    }
  ]
}