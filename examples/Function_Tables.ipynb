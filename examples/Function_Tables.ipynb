{
  "nbformat": 4,
  "nbformat_minor": 0,
  "metadata": {
    "colab": {
      "provenance": []
    },
    "kernelspec": {
      "name": "python3",
      "display_name": "Python 3"
    },
    "language_info": {
      "name": "python"
    }
  },
  "cells": [
    {
      "cell_type": "code",
      "source": [],
      "metadata": {
        "id": "B4pQETLRkLbT"
      },
      "execution_count": null,
      "outputs": []
    },
    {
      "cell_type": "markdown",
      "source": [
        "# Context\n",
        "\n",
        "\n",
        "\n",
        "In the 1950s, before the widespread use of digital computers, mathematicians and scientists relied heavily on comprehensive handbooks of mathematical functions, like the famous *Handbook of Mathematical Functions* by Milton Abramowitz and Irene Stegun, first published in 1964. This handbook provided detailed tables for numerous functions—such as trigonometric, logarithmic, and special functions (including Bessel functions)—which were essential for engineers, physicists, and mathematicians.\n",
        "\n",
        "https://en.wikipedia.org/wiki/Abramowitz_and_Stegun\n",
        "\n",
        "\n",
        "### Observation on the Role of Function Tables in Abramowitz's Handbook:\n",
        "\n",
        "At the time, the tables in Abramowitz’s handbook served a critical purpose: they were a reliable reference for scientists who needed to compute values of complex mathematical functions but lacked access to modern computational tools. These tables were calculated meticulously and provided a level of precision necessary for practical applications in science and engineering.\n",
        "\n",
        "The Bessel functions, including \\( J_0(x) \\), frequently appeared in problems involving wave propagation, electromagnetism, and quantum mechanics. In the handbook, values of these functions were tabulated for various \\( x \\)-values so that researchers could look up answers quickly without needing to perform laborious hand calculations.\n",
        "\n",
        "# Exercise\n",
        "\n",
        "You are a computer scientist in the late 1950's and receive this request:\n"
      ],
      "metadata": {
        "id": "0n5HiKgykL_9"
      }
    },
    {
      "cell_type": "markdown",
      "source": [
        "##  Memo to the Computing Department, 1956\n",
        "\n",
        "**To**: Computing Department  \n",
        "**From**: Dr. Celestina Hale, Department of Astronomy  \n",
        "**Date**: May 17, 1956  \n",
        "**Subject**: Urgent Request for Bessel Function Tables\n",
        "\n",
        "Dear Colleagues,\n",
        "\n",
        "As part of our ongoing research into the oscillation patterns of distant celestial bodies, I require a precise table of values for the Bessel function of the first kind, $J_0(x)$, which is essential in solving certain differential equations related to wave mechanics. Specifically, I need values computed for $J_0(x)$ at several points between $ x = 0 $ and $ x = 10 $.\n",
        "\n",
        "Given the limitations of our resources, I would like to request that this function be approximated using its truncated series expansion up to the 15th term. The series expansion for $J_0(x)$ is as follows:\n",
        "\n",
        "\n",
        "$J_0(x) = \\sum_{k=0}^{14} \\frac{(-1)^k}{(k!)^2} \\left( \\frac{x}{2} \\right)^{2k}$\n",
        "\n",
        "\n",
        "This approximation should suffice for our current precision needs. Once the table is generated, it will aid us in understanding the wave patterns observed in our astronomical data.\n",
        "\n",
        "I trust the department's expertise in ensuring that these tables are calculated accurately and in a timely manner. Please ensure the values are computed for 20 evenly spaced points between $x = 0$ and $x = 10$.\n",
        "\n",
        "Thank you for your prompt attention to this matter.\n",
        "\n",
        "Best regards,  \n",
        "**Dr. Celestina Hale**  \n",
        "Lead Astronomer, Celestial Dynamics Research Group\n",
        "\n"
      ],
      "metadata": {
        "id": "B1YbVMrclKZ9"
      }
    },
    {
      "cell_type": "markdown",
      "source": [
        "# Lazy Approach\n",
        "\n",
        "Using versatile python libraries we can achive that in few lines of codes"
      ],
      "metadata": {
        "id": "rH7FijBpmjxy"
      }
    },
    {
      "cell_type": "code",
      "source": [
        "! pip install ace_tools  -q"
      ],
      "metadata": {
        "id": "5cnlYb9anPV7"
      },
      "execution_count": 4,
      "outputs": []
    },
    {
      "cell_type": "code",
      "source": [
        "import numpy as np\n",
        "import pandas as pd\n",
        "from scipy.special import j0\n",
        "\n",
        "# Generate 20 points between 0 and 10\n",
        "x_values = np.linspace(0, 10, 20)\n",
        "\n",
        "# Compute the Bessel function of the first kind J0 for these values\n",
        "bessel_values = j0(x_values)\n",
        "\n",
        "# Create a DataFrame to display the results\n",
        "df_bessel = pd.DataFrame({\n",
        "    'x': x_values,\n",
        "    'Bessel Function J0(x)': bessel_values\n",
        "})\n",
        "\n",
        "print(df_bessel)"
      ],
      "metadata": {
        "colab": {
          "base_uri": "https://localhost:8080/"
        },
        "id": "kmC1z9-Ymt1K",
        "outputId": "447cc1f2-f552-40b3-c844-c7af37c471b7"
      },
      "execution_count": 6,
      "outputs": [
        {
          "output_type": "stream",
          "name": "stdout",
          "text": [
            "            x  Bessel Function J0(x)\n",
            "0    0.000000               1.000000\n",
            "1    0.526316               0.931938\n",
            "2    1.052632               0.741595\n",
            "3    1.578947               0.467377\n",
            "4    2.105263               0.163617\n",
            "5    2.631579              -0.111533\n",
            "6    3.157895              -0.308829\n",
            "7    3.684211              -0.398329\n",
            "8    4.210526              -0.375079\n",
            "9    4.736842              -0.258909\n",
            "10   5.263158              -0.088539\n",
            "11   5.789474               0.088421\n",
            "12   6.315789               0.227065\n",
            "13   6.842105               0.295573\n",
            "14   7.368421               0.281926\n",
            "15   7.894737               0.195513\n",
            "16   8.421053               0.063449\n",
            "17   8.947368              -0.077265\n",
            "18   9.473684              -0.189612\n",
            "19  10.000000              -0.245936\n"
          ]
        }
      ]
    },
    {
      "cell_type": "markdown",
      "source": [
        "But wait, the bessel function asked by Dr. Hale is too exact (modern methods truncate the series further), she will suspect that we do not belong to 1956, let' implement the correct method (even if this is less accurate)."
      ],
      "metadata": {
        "id": "qghzlKV8oUHR"
      }
    },
    {
      "cell_type": "markdown",
      "source": [
        "# Less Lazy Approach"
      ],
      "metadata": {
        "id": "XA6YETJVpIuD"
      }
    },
    {
      "cell_type": "code",
      "source": [
        "import math\n",
        "\n",
        "# Define the truncated Bessel function J0 using up to the 15th term in the series\n",
        "def truncated_bessel_j0(x, terms=15):\n",
        "    bessel_sum = 0\n",
        "    for k in range(terms):\n",
        "        bessel_sum += ((-1)**k) / (math.factorial(k)**2) * (x / 2)**(2 * k)\n",
        "    return bessel_sum\n",
        "\n",
        "# Compute the Bessel function J0 using the truncated series expansion for the same 20 points\n",
        "truncated_bessel_values = [truncated_bessel_j0(x, terms=15) for x in x_values]\n",
        "\n",
        "# Create a DataFrame to display the results\n",
        "df_truncated_bessel = pd.DataFrame({\n",
        "    'x': x_values,\n",
        "    'Truncated Bessel Function J0(x)': truncated_bessel_values\n",
        "})\n",
        "\n",
        "# Display the table\n",
        "print(df_truncated_bessel)"
      ],
      "metadata": {
        "colab": {
          "base_uri": "https://localhost:8080/"
        },
        "id": "tkZBYNB1pK6n",
        "outputId": "9cb49a1e-3c08-4fde-b1cc-079ecfbb019b"
      },
      "execution_count": 15,
      "outputs": [
        {
          "output_type": "stream",
          "name": "stdout",
          "text": [
            "            x  Truncated Bessel Function J0(x)\n",
            "0    0.000000                         1.000000\n",
            "1    0.526316                         0.931938\n",
            "2    1.052632                         0.741595\n",
            "3    1.578947                         0.467377\n",
            "4    2.105263                         0.163617\n",
            "5    2.631579                        -0.111533\n",
            "6    3.157895                        -0.308829\n",
            "7    3.684211                        -0.398329\n",
            "8    4.210526                        -0.375079\n",
            "9    4.736842                        -0.258909\n",
            "10   5.263158                        -0.088539\n",
            "11   5.789474                         0.088421\n",
            "12   6.315789                         0.227065\n",
            "13   6.842105                         0.295573\n",
            "14   7.368421                         0.281926\n",
            "15   7.894737                         0.195514\n",
            "16   8.421053                         0.063452\n",
            "17   8.947368                        -0.077247\n",
            "18   9.473684                        -0.189514\n",
            "19  10.000000                        -0.245440\n"
          ]
        }
      ]
    },
    {
      "cell_type": "markdown",
      "source": [
        "# Let's analyse\n",
        "\n",
        "You may notice that there are small differences, lets plot them."
      ],
      "metadata": {
        "id": "Rzy7jT8Bp4jZ"
      }
    },
    {
      "cell_type": "code",
      "source": [
        "import matplotlib.pyplot as plt\n",
        "\n",
        "percent_diff = 100 * (np.array(bessel_values) - np.array(truncated_bessel_values)) / np.array(bessel_values)\n",
        "\n",
        "# Create the plot\n",
        "plt.figure(figsize=(8, 6))\n",
        "plt.plot(x_values, percent_diff, marker='o', linestyle='-', color='b')\n",
        "plt.title('Percentual Difference Between Scipy Bessel J0(x) and Truncated Bessel J0(x)')\n",
        "plt.xlabel('x')\n",
        "plt.ylabel('Percentage Difference (%)')\n",
        "plt.grid(True)\n",
        "plt.show()"
      ],
      "metadata": {
        "colab": {
          "base_uri": "https://localhost:8080/",
          "height": 564
        },
        "id": "z81EzqXIqTMI",
        "outputId": "445d7c7a-6781-4ee3-b1bc-c6380561b98b"
      },
      "execution_count": 18,
      "outputs": [
        {
          "output_type": "display_data",
          "data": {
            "text/plain": [
              "<Figure size 800x600 with 1 Axes>"
            ],
            "image/png": "[encoded data removed]"
          },
          "metadata": {}
        }
      ]
    },
    {
      "cell_type": "markdown",
      "source": [],
      "metadata": {
        "id": "FmiGgebPqkO1"
      }
    }
  ]
}